{
 "cells": [
  {
   "cell_type": "markdown",
   "metadata": {},
   "source": [
    "# Notatki do pracowni drugiej"
   ]
  },
  {
   "cell_type": "markdown",
   "metadata": {},
   "source": [
    "Rozwiązujemy układ równań\n",
    "\n",
    "\\begin{equation}\n",
    "(x-x_1)^2 + (y-y_1)^2 + (z-z_1)^2 = \\big[c(t_1-t)\\big]^2 \\\\\n",
    "(x-x_2)^2 + (y-y_2)^2 + (z-z_2)^2 = \\big[c(t_2-t)\\big]^2 \\\\\n",
    "(x-x_3)^2 + (y-y_3)^2 + (z-z_3)^2 = \\big[c(t_3-t)\\big]^2 \\\\\n",
    "(x-x_4)^2 + (y-y_4)^2 + (z-z_4)^2 = \\big[c(t_4-t)\\big]^2 \\\\\n",
    "\\end{equation}\n",
    "\n",
    "Niech\n",
    "\\begin{equation}\n",
    "f_i(x, y, z, t) = (x-x_i)^2 + (y-y_i)^2 + (z-z_i)^2 - \\big[c(t_i-t)\\big]^2\n",
    "\\end{equation}\n",
    "\n",
    "Z uogólnionego twierdzenia Taylora mamy\n",
    "\\begin{equation}\n",
    "f_i(x + h_x, y + h_y, z + h_z, t + h_t) \\approx f_i(x, y, z, t) + h_x \\frac{\\partial f_i}{\\partial x}(x, y, z, t) \n",
    "+ h_y \\frac{\\partial f_i}{\\partial y}(x, y, z, t) + h_z \\frac{\\partial f_i}{\\partial z}(x, y, z, t)\n",
    "+ h_t \\frac{\\partial f_i}{\\partial t}(x, y, z, t)\n",
    "\\end{equation}\n",
    "\n",
    "Ponadto\n",
    "\\begin{equation}\n",
    "\\frac{\\partial f_i}{\\partial x} = 2(x-x_i) \\\\\n",
    "\\frac{\\partial f_i}{\\partial y} = 2(y-y_i) \\\\\n",
    "\\frac{\\partial f_i}{\\partial z} = 2(z-z_i) \\\\\n",
    "\\frac{\\partial f_i}{\\partial t} = -2c^2(t-t_i)\n",
    "\\end{equation}\n",
    "\n",
    "Stąd\n",
    "\\begin{equation}\n",
    "f_i(x + h_x, y + h_y, z + h_z, t + h_t) \\approx f_i(x, y, z, t) + 2h_x(x-x_i) + 2h_y(y-y_i) + 2h_z(z-z_i) -2c^2h_t(t-t_i)\n",
    "\\end{equation}"
   ]
  },
  {
   "cell_type": "markdown",
   "metadata": {},
   "source": [
    "## Metoda Newtona"
   ]
  },
  {
   "cell_type": "markdown",
   "metadata": {},
   "source": [
    "Zastosujemy metodę Newtona. Chcemy znaleźć $x, y, z, t$, dla których $f_i(x, y, z, t) = 0$ dla $1 \\leq i \\leq 4$.\n",
    "Niech $x_n \\in \\mathbb{R}^4$ będzie n-tym przybliżeniem metody Newtona. Szukamy $h \\in \\mathbb{R}^4$, takiego że\n",
    "dla $x_{n+1} = x_n + h$ zajdzie $f_i(x_{n+1}) = 0$ dla $1 \\leq i \\leq 4$.\n",
    "\n",
    "Niech\n",
    "$$\n",
    "x_n = \n",
    "    \\begin{pmatrix}\n",
    "    x \\\\\n",
    "    y \\\\\n",
    "    z \\\\\n",
    "    t\n",
    "    \\end{pmatrix}\n",
    "$$\n",
    "\n",
    "Rozwiążemy układ równań\n",
    "\\begin{equation}\n",
    "0 = f_1(x, y, z, t) + 2h_x(x-x_1) + 2h_y(y-y_1) + 2h_z(z-z_1) -2c^2h_t(t-t_1) \\\\\n",
    "0 = f_2(x, y, z, t) + 2h_x(x-x_2) + 2h_y(y-y_2) + 2h_z(z-z_2) -2c^2h_t(t-t_2) \\\\\n",
    "0 = f_3(x, y, z, t) + 2h_x(x-x_3) + 2h_y(y-y_3) + 2h_z(z-z_3) -2c^2h_t(t-t_3) \\\\\n",
    "0 = f_4(x, y, z, t) + 2h_x(x-x_4) + 2h_y(y-y_4) + 2h_z(z-z_4) -2c^2h_t(t-t_4)\n",
    "\\end{equation}\n",
    "Inaczej\n",
    "\\begin{equation}\n",
    "\\begin{pmatrix}\n",
    "x-x_1  & y-y_1 & z-z_1 & -c^2(t-t_1) \\\\\n",
    "x-x_2  & y-y_2 & z-z_2 & -c^2(t-t_2) \\\\\n",
    "x-x_3  & y-y_3 & z-z_3 & -c^2(t-t_3) \\\\\n",
    "x-x_4  & y-y_4 & z-z_4 & -c^2(t-t_4) \\\\\n",
    "\\end{pmatrix}\n",
    "\\begin{pmatrix}\n",
    "h_x \\\\ h_y \\\\ h_z \\\\ h_t\n",
    "\\end{pmatrix}\n",
    "=\n",
    "-\\frac{1}{2}\n",
    "\\begin{pmatrix}\n",
    "f_1(x, y, z, t) \\\\\n",
    "f_2(x, y, z, t) \\\\\n",
    "f_3(x, y, z, t) \\\\\n",
    "f_4(x, y, z, t)\n",
    "\\end{pmatrix}\n",
    "\\end{equation}\n",
    "\n",
    "Wtedy \n",
    "$$\n",
    "x_{n+1} = x_n + h = x_n + \\begin{pmatrix} h_x \\\\ h_y \\\\ h_z \\\\ h_t \\end{pmatrix}\n",
    "$$"
   ]
  },
  {
   "cell_type": "code",
   "execution_count": 62,
   "metadata": {
    "collapsed": true
   },
   "outputs": [],
   "source": [
    "function fsingle(x, sat)\n",
    "    a = (x - sat) .^ 2\n",
    "    a[4] *= -c^2\n",
    "    sum(a)\n",
    "end \n",
    "\n",
    "function fvect(x, sats)\n",
    "    [fsingle(x, sats[i]) for i = 1:length(sats)]\n",
    "end\n",
    "\n",
    "function getcoeffs(x, sats)\n",
    "    A = [x - sats[i] for i = 1:length(sats)]\n",
    "    A = hcat(A...)'\n",
    "    A[:, 4] *= -c^2\n",
    "    A\n",
    "end\n",
    "\n",
    "function newton(sats; maxiter::Int64=20) \n",
    "    x = zeros(4)\n",
    "    for i = 1:maxiter\n",
    "        A = getcoeffs(x, sats)\n",
    "        B = fvect(x, sats)\n",
    "        h = -0.5 * (A \\ B)\n",
    "        x = x + h\n",
    "    end\n",
    "    x\n",
    "end;"
   ]
  },
  {
   "cell_type": "code",
   "execution_count": 63,
   "metadata": {},
   "outputs": [
    {
     "name": "stdout",
     "output_type": "stream",
     "text": [
      "[-41.7727, -16.7892, 6370.06, -3.20157e-6]\n",
      "[-41.7727, -16.7921, 6369.67, -3.19697e-6]\n",
      "[0.1, -0.3, 0.123, 2.94862e-17]\n",
      "[0.1, -0.3, 0.123, 2.33699e-16]\n"
     ]
    }
   ],
   "source": [
    "function prepsat!(x, sat)\n",
    "    for i = 1:length(sat)\n",
    "        sat[i][4] = norm(x-sat[i][1:3]) / c\n",
    "    end\n",
    "end\n",
    "\n",
    "c = 299792458.0\n",
    "sat = Array{Array{Float64}}(4)\n",
    "\n",
    "sat[1] = [15600,7540,20140, 0.07074e-3]\n",
    "sat[2] = [18760,2750,18610, 0.07220e-3]\n",
    "sat[3] = [17610,14630,13480, 0.07690e-3]\n",
    "sat[4] = [19170,610,18390, 0.07242e-3]\n",
    "\n",
    "println(newton(sat))\n",
    "println(algebraic(sat))\n",
    "\n",
    "c = 1.0\n",
    "sat[1] = [1, 0, 0, 0]\n",
    "sat[2] = [0, 1, 0, 0]\n",
    "sat[3] = [0, 0, 1, 0]\n",
    "sat[4] = [-1, 0, 0, 0]\n",
    "\n",
    "x = [0.1, -0.3, 0.123]\n",
    "prepsat!(x, sat)\n",
    "\n",
    "println(newton(sat))\n",
    "println(algebraic(sat))"
   ]
  },
  {
   "cell_type": "code",
   "execution_count": 59,
   "metadata": {},
   "outputs": [
    {
     "data": {
      "text/plain": [
       "4-element Array{Float64,1}:\n",
       "  0.1        \n",
       " -0.3        \n",
       "  0.123      \n",
       "  2.33699e-16"
      ]
     },
     "execution_count": 59,
     "metadata": {},
     "output_type": "execute_result"
    }
   ],
   "source": [
    "using Polynomials\n",
    "\n",
    "function algebraic(sats)\n",
    "    x = [sat[1:3] for sat in sats]\n",
    "    t = [sat[4] for sat in sats]\n",
    "    A = hcat([x[i] - x[4] for i = 1:3]...)'\n",
    "    B = c^2 * (t[1:3] .- t[4])\n",
    "    sum4 = sum(x[4] .^ 2)\n",
    "    C = -0.5 * [ c^2*(t[i]^2 - t[4]^2) - sum(x[i] .^ 2) + sum4 for i = 1:3]\n",
    "    \n",
    "    a = A \\ B\n",
    "    b = A \\ C\n",
    "    bdiff = b - x[4]\n",
    "    \n",
    "    coeffs = Array{Float64}(3)\n",
    "    coeffs[1] = sum(bdiff .^ 2) - c^2*t[4]^2\n",
    "    coeffs[2] = 2*(sum(a .* bdiff) + c^2*t[4])\n",
    "    coeffs[3] = sum(a) - c^2\n",
    "    rts = filter(x -> isreal(x), roots(Poly(coeffs)))\n",
    "    \n",
    "    t1 = rts[1]\n",
    "    location = vcat([a[i]*t1 + b[i] for i = 1:3], t1)\n",
    "    \n",
    "    if(length(rts) > 1)\n",
    "        t2 = rts[2]\n",
    "        location2 = vcat([a[i]*t2 + b[i] for i = 1:3], t2)\n",
    "        if(sum(abs2, location2) < sum(abs2, location))\n",
    "            location = location2\n",
    "        end\n",
    "    end\n",
    "    location\n",
    "end\n",
    "\n",
    "algebraic(sat)"
   ]
  },
  {
   "cell_type": "code",
   "execution_count": null,
   "metadata": {
    "collapsed": true
   },
   "outputs": [],
   "source": []
  }
 ],
 "metadata": {
  "kernelspec": {
   "display_name": "Julia 0.6.0",
   "language": "julia",
   "name": "julia-0.6"
  },
  "language_info": {
   "file_extension": ".jl",
   "mimetype": "application/julia",
   "name": "julia",
   "version": "0.6.0"
  }
 },
 "nbformat": 4,
 "nbformat_minor": 2
}
