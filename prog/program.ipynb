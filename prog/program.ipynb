{
 "cells": [
  {
   "cell_type": "markdown",
   "metadata": {},
   "source": [
    "# Notatki do pracowni drugiej"
   ]
  },
  {
   "cell_type": "code",
   "execution_count": 4,
   "metadata": {},
   "outputs": [],
   "source": [
    "using PyPlot\n",
    "include(\"program.jl\")\n",
    "c = 299792.458\n",
    "earth_rad = 6370.0\n",
    "sat_rad = 20000.0;"
   ]
  },
  {
   "cell_type": "markdown",
   "metadata": {},
   "source": [
    "## Metoda najmniejszych kwadratów"
   ]
  },
  {
   "cell_type": "markdown",
   "metadata": {},
   "source": [
    "Mamy układ równań\n",
    "$$ (x-x_{i})^2 + (y - y_{i})^2 + (z - z_{i})^2 - \\big[c(t_{i}-t)\\big]^2 = 0 \\ , \\ i =  1, 2 \\ ... \\ n \\ , \\ n > 4$$\n",
    "Niech\n",
    "$$ f_{i}(x, y, z, t) = (x-x_{i})^2 + (y - y_{i})^2 + (z - z_{i})^2 - \\big[c(t_{i}-t)\\big]^2 $$\n",
    "Chcemy znaleźć takie $(x, y, z, t)$, że\n",
    "$$\\sum_{1}^{n} f_{i}^2(x, y, z, t) $$ \n",
    "będzie minimalne.\n",
    "\n",
    "Zastosujemy metodę będącą uogólnieniem metody Newtona opisanej powyżej:\n",
    "Niech:\n",
    "$$ h_{n} = -(J_{n}^T J_{n})^{-1} J^T F(x_{n})$$\n",
    "gdzie\n",
    "\n",
    "$J_{n}$ - macierz pochodnych cząstkowych w punkcie $x_n$ \n",
    "\n",
    "$J_{n}[i, j] = \\frac{\\partial f_i}{\\partial x_j} $\n",
    "\n",
    "$F(x) \\in R^4 \\to R^n , F(x) = \\big[f_{i}(x)\\big]$\n",
    "\n",
    "Wtedy\n",
    "$$ x_{n+1} = x_{n} + h_{n} $$\n",
    "Jest n-tym przybliżeniem metody."
   ]
  },
  {
   "cell_type": "code",
   "execution_count": null,
   "metadata": {
    "collapsed": true
   },
   "outputs": [],
   "source": [
    "function leastSquares(sats, maxiter=20, satcnt=8)\n",
    "    newton(sats[1:satcnt], maxiter)\n",
    "end;"
   ]
  },
  {
   "cell_type": "markdown",
   "metadata": {},
   "source": [
    "# Testy"
   ]
  },
  {
   "cell_type": "code",
   "execution_count": 2,
   "metadata": {},
   "outputs": [
    {
     "name": "stdout",
     "output_type": "stream",
     "text": [
      "[5265.16, 655.188, 3525.02, -0.0163411]\n",
      "[5265.16, 655.188, 3525.02, -0.0163411]\n",
      "[5265.16, 655.188, 3525.02, -0.0163411]\n",
      "[5265.16, 655.188, 3525.02, -0.0163411]\n",
      "[5265.16, 655.188, 3525.02, -0.0163411]\n"
     ]
    }
   ],
   "source": [
    "sat = Array{Array{Float64}}(7)\n",
    "\n",
    "sat[1] = [15600.0, 7540.0, 20140.0, 7.074e-2]\n",
    "sat[2] = [18760.0, 2750.0, 18610.0, 7.220e-2]\n",
    "sat[3] = [17610.0, 14630.0, 13480.0, 7.690e-2]\n",
    "sat[4] = [19170.0, 610.0, 18390.0, 7.242e-2]\n",
    "sat[5] = rand_position(sat_rad)\n",
    "sat[6] = rand_position(sat_rad)\n",
    "sat[7] = rand_position(sat_rad)\n",
    "\n",
    "x = rand_position(earth_rad)\n",
    "prepsat!(x, sat)\n",
    "\n",
    "println(x)\n",
    "println(newton(sat))\n",
    "println(algebraic(sat))\n",
    "println(bancroft(sat))\n",
    "println(heura(sat))"
   ]
  },
  {
   "cell_type": "code",
   "execution_count": null,
   "metadata": {
    "collapsed": true
   },
   "outputs": [],
   "source": [
    "function table(arr::Matrix; pre=true, column_names=nothing)\n",
    "    if column_names !== nothing\n",
    "        arr = vcat(reshape(column_names, 1, length(column_names)), arr)\n",
    "    end\n",
    "    s =\n",
    "    \"\"\"\n",
    "    <table border=\"1\">\n",
    "    \"\"\"\n",
    "    for r in 1:size(arr, 1)\n",
    "        s *= \"<tr>\"\n",
    "        for c in 1:size(arr, 2)\n",
    "            s *= \"<td>\"\n",
    "            if pre s *= \"<pre>\" end\n",
    "            s *= string(arr[r, c])\n",
    "            if pre s *= \"</pre>\" end\n",
    "        end\n",
    "        s *= \"</tr>\"\n",
    "    end\n",
    "    s *= \"</table>\"\n",
    "    return HTML(s)\n",
    "end;"
   ]
  },
  {
   "cell_type": "markdown",
   "metadata": {},
   "source": [
    "Będziemy sprawdzać dokładność metod za pomocą symulacji trasy obiektu na powierzchni Ziemi oraz pozycji satelit. Znając rzeczywiste położenie satelity, obiektu i błędu zegara wyliczamy stałe $t_{i}$. Następnie stosujemy każdą z metod do wyliczenia położenia obiektu.\n",
    "\n",
    "Aby wzbogacić symulację, dodany został współczynnik $inacuraccy$ mający na celu odwzorować zmiany prędkości światła ośrodkach innych niż próżnia."
   ]
  },
  {
   "cell_type": "code",
   "execution_count": null,
   "metadata": {
    "collapsed": true
   },
   "outputs": [],
   "source": [
    "function path(maxiter, lon0, lat0)\n",
    "    a = pi/4\n",
    "    d = 0.00000005\n",
    "    lon = lon0 + d*cos(a)\n",
    "    lat = lat0 + d*sin(a)\n",
    "    t=0\n",
    "    res = [[], []]\n",
    "    for i in 1:maxiter\n",
    "        push!(res[1], lon)\n",
    "        push!(res[2], lat)\n",
    "        if t==0\n",
    "            t = rand(20:50)\n",
    "            da = rand()*randSgn()\n",
    "            a +=da\n",
    "        end\n",
    "        lon += d*cos(a)\n",
    "        lat += d*sin(a)\n",
    "        t-=1\n",
    "    end\n",
    "    res\n",
    "end\n",
    "\n",
    "function LLAtoXYZ(LL)\n",
    "    rad = 6378.1\n",
    "    lon = LL[1]\n",
    "    lat = LL[2]\n",
    "    cosLat = cos(lat * pi / 180.0)\n",
    "    sinLat = sin(lat * pi / 180.0)\n",
    "    cosLon = cos(lon * pi / 180.0)\n",
    "    sinLon = sin(lon * pi / 180.0)\n",
    "    x = rad * cosLat * cosLon\n",
    "    y = rad * cosLat * sinLon\n",
    "    z = rad * sinLat\n",
    "    [x, y, z]\n",
    "end\n",
    "\n",
    "function XYZtoLLA(X)\n",
    "    rad = 6378.1\n",
    "    x = X[1]\n",
    "    y = X[2]\n",
    "    z = X[3]\n",
    "    lat = asin(z / rad) * 180 / pi\n",
    "    lon = atan(y / x) * 180 / pi\n",
    "    return [lon, lat]\n",
    "end\n",
    "\n",
    "function inaccuracy(inaccurate)\n",
    "    if inaccurate \n",
    "        return (1 + rand()/500000000)\n",
    "    end\n",
    "    return 1\n",
    "end\n",
    "\n",
    "function countTime(mistake, Pos, sat, inaccurate=false)\n",
    "    C = 299792.458\n",
    "    dist = norm(Pos[1:3]-sat[1:3])\n",
    "    t = dist / C\n",
    "    return [t + mistake]*inaccuracy(inaccurate)\n",
    "end\n",
    "\n",
    "sat_count = 8\n",
    "sat_coords = [ rand_position(sat_rad)[1:3] for i = 1:sat_count ]\n",
    "\n",
    "function createSats(lon, lat, mistake, inaccuracy=false)\n",
    "    [ vcat(sat_pos, countTime(mistake, LLAtoXYZ([lon, lat]), sat_pos, inaccuracy) ) for sat_pos in sat_coords ]\n",
    "end\n",
    "\n",
    "function GPS_newton(coords, mistake, maxiter=20, inaccuracy=false)\n",
    "    res = [[],[]]\n",
    "    for i in 1:length(coords[1])\n",
    "        sat = createSats(coords[1][i], coords[2][i], mistake, inaccuracy)\n",
    "        X = newton(sat[1:4], maxiter)\n",
    "        LL = XYZtoLLA(X[1:3])\n",
    "        push!(res[1], LL[1])\n",
    "        push!(res[2], LL[2])\n",
    "    end\n",
    "    return res\n",
    "end\n",
    "\n",
    "function GPS_leastSquares(coords, mistake, maxiter=20, satcnt=sat_count, inaccuracy=false) \n",
    "    res = [[],[]]\n",
    "    for i in 1:length(coords[1])\n",
    "        sat = createSats(coords[1][i], coords[2][i], mistake, inaccuracy)\n",
    "        X = leastSquares(sat, maxiter, satcnt)\n",
    "        LL = XYZtoLLA(X[1:3])\n",
    "        push!(res[1], LL[1])\n",
    "        push!(res[2], LL[2])\n",
    "    end\n",
    "    return res\n",
    "end\n",
    "\n",
    "function GPS_alg(coords, mistake, inaccuracy=false)\n",
    "    res = [[],[]]\n",
    "    for i in 1:length(coords[1])\n",
    "        sat = createSats(coords[1][i], coords[2][i], mistake, inaccuracy)\n",
    "        X = algebraic(sat)\n",
    "        LL = XYZtoLLA(X[1:3])\n",
    "        push!(res[1], LL[1])\n",
    "        push!(res[2], LL[2])\n",
    "    end\n",
    "    return res\n",
    "end\n",
    "\n",
    "function GPS_bancroft(coords, mistake, inaccuracy=false)\n",
    "    res = [[],[]]\n",
    "    for i in 1:length(coords[1])\n",
    "        sat = createSats(coords[1][i], coords[2][i], mistake, inaccuracy)\n",
    "        X = bancroft(sat)\n",
    "        LL = XYZtoLLA(X[1:3])\n",
    "        push!(res[1], LL[1])\n",
    "        push!(res[2], LL[2])\n",
    "    end\n",
    "    return res\n",
    "end\n",
    "\n",
    "function GPS_heura(coords, mistake, inaccuracy=false) \n",
    "    res = [[],[]]\n",
    "    for i in 1:length(coords[1])\n",
    "        sat = createSats(coords[1][i], coords[2][i], mistake, inaccuracy)\n",
    "        X = heura(sat)\n",
    "        LL = XYZtoLLA(X[1:3])\n",
    "        push!(res[1], LL[1])\n",
    "        push!(res[2], LL[2])\n",
    "    end\n",
    "    return res\n",
    "end\n",
    "\n",
    "function MAXdist(coords, gps_coords)\n",
    "    res = 0.0\n",
    "    for i in 1:length(coords[1])\n",
    "        X1 = LLAtoXYZ([coords[1][i], coords[2][i]])\n",
    "        X2 = LLAtoXYZ([gps_coords[1][i], gps_coords[2][i]])\n",
    "        d =sqrt(sum([(X1[i]-X2[i])^2   for i in 1:3] ))\n",
    "        res = max(res, d)\n",
    "    end\n",
    "    return res*1000\n",
    "end\n",
    "\n",
    "function MINdist(coords, gps_coords)\n",
    "    res = 100000.0\n",
    "    for i in 1:length(coords[1])\n",
    "        X1 = LLAtoXYZ([coords[1][i], coords[2][i]])\n",
    "        X2 = LLAtoXYZ([gps_coords[1][i], gps_coords[2][i]])\n",
    "        d =sqrt(sum([(X1[i]-X2[i])^2   for i in 1:3] ))\n",
    "        res = min(res, d)\n",
    "    end\n",
    "    return res*1000\n",
    "end\n",
    "\n",
    "function MinMaxMistakeTable(methods, results, coords)\n",
    "    maxmistake = [ MAXdist(coords, results[i]) for i in 1:length(methods) ]\n",
    "    minmistake = [ MINdist(coords, results[i]) for i in 1:length(methods) ] \n",
    "    table(hcat(methods, maxmistake, minmistake), column_names=[:Metoda, :\"Największy błąd\", :\"Najmniejszy błąd\"])\n",
    "end;"
   ]
  },
  {
   "cell_type": "code",
   "execution_count": null,
   "metadata": {},
   "outputs": [],
   "source": [
    "coords = path(3000, -70, -32.5)\n",
    "x = coords[1]\n",
    "y = coords[2]\n",
    "\n",
    "mistake = 0.005\n",
    "\n",
    "newton_coords = GPS_newton(coords, mistake, 3, true)\n",
    "xn = newton_coords[1]\n",
    "yn = newton_coords[2]\n",
    "\n",
    "leastSquares_coords = GPS_leastSquares(coords, mistake, 3, sat_count, true)\n",
    "xl = leastSquares_coords[1]\n",
    "yl = leastSquares_coords[2]\n",
    "\n",
    "alg_coords = GPS_alg(coords, mistake, true)\n",
    "xa = alg_coords[1]\n",
    "ya = alg_coords[2]\n",
    "\n",
    "bancroft_coords = GPS_bancroft(coords, mistake, true)\n",
    "xb = bancroft_coords[1]\n",
    "yb = bancroft_coords[2]\n",
    "\n",
    "fig, ax = subplots()\n",
    "\n",
    "title(\"Ścieżki na mapie\")\n",
    "xlabel(\"długość geograficzna\")\n",
    "ylabel(\"szerokość geograficzna\")\n",
    "ax[:plot](x, y, \"-\", color=\"red\", linewidth=8, alpha=1.0, label=\"rzeczywista ścieżka\")\n",
    "ax[:plot](xn, yn, \"-\", color=\"blue\", linewidth=1, alpha=0.5, label=\"Metoda Newtona, 3 iteracje\")\n",
    "ax[:plot](xa, ya, \"-\", color=\"green\", linewidth=1, alpha=1.0, label=\"Metoda algebraiczna\")\n",
    "ax[:plot](xl, yl, \"-\", color=\"yellow\", linewidth=1, alpha=0.5, label=\"Metoda najmniejszych kwadratów, 3 iteracje\")\n",
    "ax[:legend](bbox_to_anchor=(1.05, 1), loc=2, borderaxespad=0.)\n",
    "show()\n",
    "\n",
    "methods =[\"Newtona, 3 iteracje\", \"Najmnieszych kwadratów, 3 iteracje\", \"Algebraiczna\", \"Bancrofta\"]\n",
    "results = [newton_coords, leastSquares_coords, alg_coords, bancroft_coords]\n",
    "\n",
    "MinMaxMistakeTable(methods, results, coords)\n"
   ]
  },
  {
   "cell_type": "code",
   "execution_count": null,
   "metadata": {
    "collapsed": true
   },
   "outputs": [],
   "source": [
    "function clock_mistake_plot(method, coords, maxiter)\n",
    "    res = [[], []]\n",
    "    dm = 0.1\n",
    "    mistake = 0.0\n",
    "    for i in 1:maxiter\n",
    "        alg_coords = method(coords, mistake)\n",
    "        dist = MAXdist(coords, alg_coords)\n",
    "        push!(res[1], mistake)\n",
    "        push!(res[2], dist)\n",
    "        mistake+=dm\n",
    "    end\n",
    "    res\n",
    "end;"
   ]
  },
  {
   "cell_type": "markdown",
   "metadata": {},
   "source": [
    "Istotnym czynnikiem wpływającym na niedokładność pomiaru jest błąd zegara."
   ]
  },
  {
   "cell_type": "code",
   "execution_count": null,
   "metadata": {},
   "outputs": [],
   "source": [
    "data1 = clock_mistake_plot(GPS_alg, coords, 10)\n",
    "x = data1[1]\n",
    "y1 = data1[2]\n",
    "\n",
    "data2 = clock_mistake_plot(GPS_newton, coords, 10)\n",
    "y2 = data2[2]\n",
    "\n",
    "data3 = clock_mistake_plot(GPS_heura, coords, 10)\n",
    "y3 = data3[2]\n",
    "\n",
    "data4 = clock_mistake_plot(GPS_bancroft, coords, 10)\n",
    "y4 = data4[2]\n",
    "\n",
    "data5 = clock_mistake_plot(GPS_leastSquares, coords, 10)\n",
    "y5 =  data5[2]\n",
    "\n",
    "fig, ax = subplots()\n",
    "\n",
    "title(\"Błąd metod w zależności od błędu zegara\")\n",
    "ylabel(\"m\")\n",
    "xlabel(\"s\")\n",
    "ax[:plot](x, y1, \"-\", color=\"green\", linewidth=2, alpha=1.0, label=\"Metoda algebraiczna\")\n",
    "ax[:plot](x, y2, \"-\", color=\"blue\", linewidth=2, alpha=1.0, label=\"Metoda Newtona\")\n",
    "ax[:plot](x, y3, \"-\", color=\"red\", linewidth=2, alpha=1.0, label=\"Heura\")\n",
    "ax[:plot](x, y4, \"-\", color=\"yellow\", linewidth=2, alpha=1.0, label=\"Metoda Bancrofta\")\n",
    "ax[:plot](x, y5, \"-\", color=\"black\", linewidth=2, alpha=1.0, label=\"Metoda najmniejszych kwadratów\")\n",
    "ax[:legend](bbox_to_anchor=(1.05, 1), loc=2, borderaxespad=0.)\n",
    "\n",
    "show()"
   ]
  },
  {
   "cell_type": "markdown",
   "metadata": {},
   "source": [
    "W metodach Newtona oraz najmniejszych kwadratów dokładność powinna zwiększać się wraz z liczbą iteracji. Można udowodnić, że powinna to być zbieżność kwadratowa. "
   ]
  },
  {
   "cell_type": "code",
   "execution_count": null,
   "metadata": {
    "collapsed": true
   },
   "outputs": [],
   "source": [
    "function iter_mistake_plot(method, coords, maxiter)\n",
    "    res = [[], []]\n",
    "    for i in 1:maxiter\n",
    "        newton_coords = method(coords, 0.005, i)\n",
    "        dist = MAXdist(coords, newton_coords)\n",
    "        push!(res[1], i)\n",
    "        push!(res[2], dist)\n",
    "    end\n",
    "    return res\n",
    "end\n",
    "show()"
   ]
  },
  {
   "cell_type": "code",
   "execution_count": null,
   "metadata": {},
   "outputs": [],
   "source": [
    "data1 = iter_mistake_plot(GPS_newton, coords, 10)\n",
    "x = data1[1]\n",
    "y1 = data1[2]\n",
    "\n",
    "data2 = iter_mistake_plot(GPS_leastSquares, coords, 10)\n",
    "y2 = data2[2]\n",
    "\n",
    "tab = hcat(x, y1, y2)\n",
    "\n",
    "table(tab, column_names=[:\"Iteracja\", :\"Błąd metody Newtona (m)\", :\"Błąd metody najmniejszych kwadratów (m)\"])"
   ]
  },
  {
   "cell_type": "markdown",
   "metadata": {
    "collapsed": true
   },
   "source": [
    "Poniżej sprawdzamy dokładność pomiarów dla losowych punktów na Ziemi"
   ]
  },
  {
   "cell_type": "code",
   "execution_count": null,
   "metadata": {},
   "outputs": [],
   "source": [
    "sat_count = 10\n",
    "sat = Array{Array{Float64}}(sat_count)\n",
    "\n",
    "mean1 = 0\n",
    "mean2 = 0\n",
    "mean3 = 0\n",
    "mean4 = 0\n",
    "mean5 = 0\n",
    "\n",
    "iters = 5000\n",
    "\n",
    "for i = 1:iters\n",
    "    sat = [ rand_position(sat_rad) for j = 1:sat_count ]\n",
    "    x = rand_position(earth_rad)\n",
    "    #LL = XYZtoLLA(x)\n",
    "    #mistake = 0.00001\n",
    "    #sat =  createSats(LL[1], LL[2], mistake)\n",
    "    prepsat!(x, sat)\n",
    "    x1 = newton(sat[1:4])\n",
    "    x2 = algebraic(sat)\n",
    "    x3 = bancroft(sat)\n",
    "    x4 = heura(sat)\n",
    "    x5 = leastSquares(sat)\n",
    "\n",
    "    mean1 += sum(abs2, x1 - x)\n",
    "    mean2 += sum(abs2, x2 - x)\n",
    "    mean3 += sum(abs2, x3 - x)\n",
    "    mean4 += sum(abs2, x4 - x)\n",
    "    mean5 += sum(abs2, x5 - x)\n",
    "end\n",
    "\n",
    "mean1 /= iters\n",
    "mean2 /= iters\n",
    "mean3 /= iters\n",
    "mean4 /= iters\n",
    "mean5 /= iters\n",
    "\n",
    "names = [\"Newton\", \"Algebraiczna\", \"Bancroft\", \"Heura\", \"Najmniejszych kwadratów\"]\n",
    "results = [mean1, mean2, mean3, mean4, mean5]\n",
    "\n",
    "table(hcat(names, results), column_names=[:Metoda, :\"Średni błąd (m)\"])"
   ]
  },
  {
   "cell_type": "markdown",
   "metadata": {},
   "source": [
    "Wpływ liczby satelit na dokładność metody najmniejszych kwadratów"
   ]
  },
  {
   "cell_type": "code",
   "execution_count": null,
   "metadata": {
    "collapsed": true
   },
   "outputs": [],
   "source": [
    "function leastSquares_sat_plot(positers=100, satiters=50)\n",
    "    res = [[],[]]\n",
    "    \n",
    "    sat = [ rand_position(sat_rad) for i in 1:satiters ]\n",
    "    means = zeros(satiters)\n",
    "\n",
    "    for i in 1:positers\n",
    "        x = rand_position(earth_rad)\n",
    "        prepsat!(x, sat)\n",
    "        for sat_cnt in 4:satiters\n",
    "            xgps = leastSquares(sat, 10, sat_cnt)\n",
    "            means[sat_cnt] += sum(abs2, xgps-x)\n",
    "        end\n",
    "    end\n",
    "    for i in 4:satiters\n",
    "        push!(res[1], i)\n",
    "        push!(res[2], means[i]/positers)\n",
    "    end\n",
    "    res\n",
    "end;"
   ]
  },
  {
   "cell_type": "code",
   "execution_count": null,
   "metadata": {},
   "outputs": [],
   "source": [
    "data = leastSquares_sat_plot()\n",
    "x = data[1]\n",
    "y = data[2]\n",
    "\n",
    "fig, ax = subplots()\n",
    "\n",
    "title(\"Błąd metody najmniejszych kwadratów w zależności od liczby satelit\")\n",
    "ylabel(\"m\")\n",
    "xlabel(\"liczba satelit\")\n",
    "ax[:plot](x, y, \"-\", color=\"red\", linewidth=2, alpha=1.0)\n",
    "show()"
   ]
  },
  {
   "cell_type": "code",
   "execution_count": null,
   "metadata": {
    "collapsed": true
   },
   "outputs": [],
   "source": []
  }
 ],
 "metadata": {
  "kernelspec": {
   "display_name": "Julia 0.6.0",
   "language": "julia",
   "name": "julia-0.6"
  },
  "language_info": {
   "file_extension": ".jl",
   "mimetype": "application/julia",
   "name": "julia",
   "version": "0.6.0"
  }
 },
 "nbformat": 4,
 "nbformat_minor": 2
}
