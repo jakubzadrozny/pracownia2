{
 "cells": [
  {
   "cell_type": "markdown",
   "metadata": {},
   "source": [
    "# Notatki do pracowni drugiej"
   ]
  },
  {
   "cell_type": "markdown",
   "metadata": {},
   "source": [
    "Rozwiązujemy układ równań\n",
    "\n",
    "\\begin{equation}\n",
    "(x-x_1)^2 + (y-y_1)^2 + (z-z_1)^2 = \\big[c(t_1-t)\\big]^2 \\\\\n",
    "(x-x_2)^2 + (y-y_2)^2 + (z-z_2)^2 = \\big[c(t_2-t)\\big]^2 \\\\\n",
    "(x-x_3)^2 + (y-y_3)^2 + (z-z_3)^2 = \\big[c(t_3-t)\\big]^2 \\\\\n",
    "(x-x_4)^2 + (y-y_4)^2 + (z-z_4)^2 = \\big[c(t_4-t)\\big]^2 \\\\\n",
    "\\end{equation}\n",
    "\n",
    "Niech\n",
    "\\begin{equation}\n",
    "f_i(x, y, z, t) = (x-x_i)^2 + (y-y_i)^2 + (z-z_i)^2 - \\big[c(t_i-t)\\big]^2\n",
    "\\end{equation}"
   ]
  },
  {
   "cell_type": "markdown",
   "metadata": {},
   "source": [
    "## Metoda Newtona"
   ]
  },
  {
   "cell_type": "markdown",
   "metadata": {},
   "source": [
    "Z uogólnionego twierdzenia Taylora mamy\n",
    "\\begin{equation}\n",
    "f_i(x + h_x, y + h_y, z + h_z, t + h_t) \\approx f_i(x, y, z, t) + h_x \\frac{\\partial f_i}{\\partial x}(x, y, z, t) \n",
    "+ h_y \\frac{\\partial f_i}{\\partial y}(x, y, z, t) + h_z \\frac{\\partial f_i}{\\partial z}(x, y, z, t)\n",
    "+ h_t \\frac{\\partial f_i}{\\partial t}(x, y, z, t)\n",
    "\\end{equation}\n",
    "\n",
    "Ponadto\n",
    "\\begin{equation}\n",
    "\\frac{\\partial f_i}{\\partial x} = 2(x-x_i) \\\\\n",
    "\\frac{\\partial f_i}{\\partial y} = 2(y-y_i) \\\\\n",
    "\\frac{\\partial f_i}{\\partial z} = 2(z-z_i) \\\\\n",
    "\\frac{\\partial f_i}{\\partial t} = -2c^2(t-t_i)\n",
    "\\end{equation}\n",
    "\n",
    "Stąd\n",
    "\\begin{equation}\n",
    "f_i(x + h_x, y + h_y, z + h_z, t + h_t) \\approx f_i(x, y, z, t) + 2h_x(x-x_i) + 2h_y(y-y_i) + 2h_z(z-z_i) -2c^2h_t(t-t_i)\n",
    "\\end{equation}"
   ]
  },
  {
   "cell_type": "markdown",
   "metadata": {},
   "source": [
    "Zastosujemy metodę Newtona. Chcemy znaleźć $x, y, z, t$, dla których $f_i(x, y, z, t) = 0$ dla $1 \\leq i \\leq 4$.\n",
    "Niech $x_n \\in \\mathbb{R}^4$ będzie n-tym przybliżeniem metody Newtona. Szukamy $h \\in \\mathbb{R}^4$, takiego że\n",
    "dla $x_{n+1} = x_n + h$ zajdzie $f_i(x_{n+1}) = 0$ dla $1 \\leq i \\leq 4$.\n",
    "\n",
    "Niech\n",
    "$$\n",
    "x_n = \n",
    "    \\begin{pmatrix}\n",
    "    x \\\\\n",
    "    y \\\\\n",
    "    z \\\\\n",
    "    t\n",
    "    \\end{pmatrix}\n",
    "$$\n",
    "\n",
    "Rozwiążemy układ równań\n",
    "\\begin{equation}\n",
    "0 = f_1(x, y, z, t) + 2h_x(x-x_1) + 2h_y(y-y_1) + 2h_z(z-z_1) -2c^2h_t(t-t_1) \\\\\n",
    "0 = f_2(x, y, z, t) + 2h_x(x-x_2) + 2h_y(y-y_2) + 2h_z(z-z_2) -2c^2h_t(t-t_2) \\\\\n",
    "0 = f_3(x, y, z, t) + 2h_x(x-x_3) + 2h_y(y-y_3) + 2h_z(z-z_3) -2c^2h_t(t-t_3) \\\\\n",
    "0 = f_4(x, y, z, t) + 2h_x(x-x_4) + 2h_y(y-y_4) + 2h_z(z-z_4) -2c^2h_t(t-t_4)\n",
    "\\end{equation}\n",
    "Inaczej\n",
    "\\begin{equation}\n",
    "\\begin{pmatrix}\n",
    "x-x_1  & y-y_1 & z-z_1 & -c^2(t-t_1) \\\\\n",
    "x-x_2  & y-y_2 & z-z_2 & -c^2(t-t_2) \\\\\n",
    "x-x_3  & y-y_3 & z-z_3 & -c^2(t-t_3) \\\\\n",
    "x-x_4  & y-y_4 & z-z_4 & -c^2(t-t_4) \\\\\n",
    "\\end{pmatrix}\n",
    "\\begin{pmatrix}\n",
    "h_x \\\\ h_y \\\\ h_z \\\\ h_t\n",
    "\\end{pmatrix}\n",
    "=\n",
    "-\\frac{1}{2}\n",
    "\\begin{pmatrix}\n",
    "f_1(x, y, z, t) \\\\\n",
    "f_2(x, y, z, t) \\\\\n",
    "f_3(x, y, z, t) \\\\\n",
    "f_4(x, y, z, t)\n",
    "\\end{pmatrix}\n",
    "\\end{equation}\n",
    "\n",
    "Wtedy \n",
    "$$\n",
    "x_{n+1} = x_n + h = x_n + \\begin{pmatrix} h_x \\\\ h_y \\\\ h_z \\\\ h_t \\end{pmatrix}\n",
    "$$"
   ]
  },
  {
   "cell_type": "code",
   "execution_count": 4,
   "metadata": {
    "collapsed": true
   },
   "outputs": [],
   "source": [
    "c = 299792.458;"
   ]
  },
  {
   "cell_type": "code",
   "execution_count": 5,
   "metadata": {
    "collapsed": true
   },
   "outputs": [],
   "source": [
    "function product(a, b)\n",
    "    a[1]*b[1] + a[2]*b[2] + a[3]*b[3] - a[4]*b[4]\n",
    "end\n",
    "\n",
    "function f(x, A)\n",
    "    [ product(x-A[i, :], x-A[i, :]) for i=1:size(A, 1) ]\n",
    "end\n",
    "\n",
    "function jacobian(x, A)\n",
    "    i = vcat(ones(size(A, 2) - 1), -1)\n",
    "    hcat([ i .* (x - A[j, :]) for j = 1:size(A, 1) ]...)'\n",
    "end\n",
    "\n",
    "function newton(sats, maxiter=20)\n",
    "    A = hcat(sats...)'\n",
    "    A[:, 4] *= c\n",
    "    x = zeros(4)\n",
    "    for i = 1:maxiter\n",
    "        J = jacobian(x, A)\n",
    "        b = -0.5 * f(x, A)\n",
    "        x += pinv(J) * b\n",
    "    end\n",
    "    x[4] /= c\n",
    "    x\n",
    "end;"
   ]
  },
  {
   "cell_type": "markdown",
   "metadata": {},
   "source": [
    "## Metoda algebraiczna"
   ]
  },
  {
   "cell_type": "markdown",
   "metadata": {},
   "source": [
    "Zastosujemy inne podejście (nieiteracyjne). Rozważany układ równań wygląda następująco\n",
    "\n",
    "$$\n",
    "x^2 + y^2 + z^2 -2xx_1 -2yy_1 -2zz_1 + x_1^2 + y_1^2 + z_1^2 = c^2(t^2 -2tt_1 + t_1^2) \\\\\n",
    "x^2 + y^2 + z^2 -2xx_2 -2yy_2 -2zz_2 + x_2^2 + y_2^2 + z_2^2 = c^2(t^2 -2tt_2 + t_2^2) \\\\\n",
    "x^2 + y^2 + z^2 -2xx_3 -2yy_3 -2zz_3 + x_3^2 + y_3^2 + z_3^2 = c^2(t^2 -2tt_3 + t_3^2) \\\\\n",
    "x^2 + y^2 + z^2 -2xx_4 -2yy_4 -2zz_4 + x_4^2 + y_4^2 + z_4^2 = c^2(t^2 -2tt_4 + t_4^2)\n",
    "$$\n",
    "\n",
    "Po odjęciu czwartego równania stronami od pierwszych trzech otrzymamy\n",
    "\n",
    "$$\n",
    "-2x(x_1-x_4) -2y(y_1-y_4) -2z(z_1-z_4) + x_1^2 + y_1^2 + z_1^2 - (x_4^2 + y_4^2 + z_4^2) = c^2(-2t(t_1-t_4)+t_1^2-t_4^2) \\\\\n",
    "-2x(x_2-x_4) -2y(y_2-y_4) -2z(z_2-z_4) + x_2^2 + y_2^2 + z_2^2 - (x_4^2 + y_4^2 + z_4^2) = c^2(-2t(t_2-t_4)+t_2^2-t_4^2) \\\\ \n",
    "-2x(x_3-x_4) -2y(y_3-y_4) -2z(z_3-z_4) + x_3^2 + y_3^2 + z_3^2 - (x_4^2 + y_4^2 + z_4^2) = c^2(-2t(t_3-t_4)+t_3^2-t_4^2)\n",
    "$$\n",
    "\n",
    "Otrzymaliśmy więc układ 3 równań liniowych na 4 zmiennych. Układ taki nie posiada jednozanczego rozwiązania, ale - o ile nie jest sprzeczny - posiada rozwiązania parametryczne. W naszym przypadku (dla realnych danych) powinno to być rozwiązanie zależne od jednego parametru. Oznacza to, że pozostałe zmienne można wyrazić jako kombinacje liniowe tego parametru tak, aby dla dowolnej wartości parametru układ równań był spełniony. Ponieważ dla faktycznych danych żadna zmienna nie powinna być z góry ustalona (na trzech równaniach), to możemy założyć, że parametrem jest $t$. Wtedy dla pewnych rzeczywistych $a_x, a_y, a_z, b_x, b_y, b_z$ mamy\n",
    "\n",
    "$$ \n",
    "x = a_xt + b_x \\\\\n",
    "y = a_yt + b_y \\\\\n",
    "z = a_zt + b_z\n",
    "$$\n",
    "Wówczas dla dowolnego $t$ zachodzi\n",
    "\n",
    "$$\n",
    "-2(a_xt+b_x)(x_1-x_4)-2(a_yt+b_y)(y_1-y_4)-2(a_xt+b_z)(z_1-z_4)+x_1^2+y_1^2+z_1^2-c_0=c^2(-2t(t_1-t_4)+t_1^2-t_4^2) \\\\\n",
    "-2(a_xt+b_x)(x_2-x_4)-2(a_yt+b_y)(y_2-y_4)-2(a_xt+b_z)(z_2-z_4)+x_2^2+y_2^2+z_2^2-c_0=c^2(-2t(t_2-t_4)+t_2^2-t_4^2) \\\\\n",
    "-2(a_xt+b_x)(x_3-x_4)-2(a_yt+b_y)(y_3-y_4)-2(a_xt+b_z)(z_3-z_4)+x_3^2+y_3^2+z_3^2-c_0=c^2(-2t(t_3-t_4)+t_3^2-t_4^2)\n",
    "$$\n",
    "\n",
    "gdzie $c_0 = x_4^2 + y_4^2 + z_4^2$.\n",
    "\n",
    "Otrzymaliśmy zatem równości trzech funckji liniowych dla każdego argumentu. \n",
    "\n",
    "Stąd\n",
    "$$\n",
    "a_x(x_1-x_4) + a_y(y_1-y_4) + a_z(z_1-z_4) = c^2(t_1-t_4) \\\\\n",
    "a_x(x_2-x_4) + a_y(y_2-y_4) + a_z(z_2-z_4) = c^2(t_2-t_4) \\\\\n",
    "a_x(x_3-x_4) + a_y(y_3-y_4) + a_z(z_3-z_4) = c^2(t_3-t_4) \\\\\n",
    "-2(b_x(x_1-x_4)+b_y(y_1-y_4)+b_z(z_1-z_4)) + x_1^2+y_1^2+z_1^2 - c_0 = c^2(t_1^2 - t_4^2) \\\\\n",
    "-2(b_x(x_2-x_4)+b_y(y_2-y_4)+b_z(z_2-z_4)) + x_2^2+y_2^2+z_2^2 - c_0 = c^2(t_2^2 - t_4^2) \\\\\n",
    "-2(b_x(x_3-x_4)+b_y(y_3-y_4)+b_z(z_3-z_4)) + x_3^2+y_3^2+z_3^2 - c_0 = c^2(t_3^2 - t_4^2)\n",
    "$$\n",
    "\n",
    "Inaczej\n",
    "$$\n",
    "\\begin{pmatrix}\n",
    "x_1-x_4 & y_1-y_4 & z_1-z_4 \\\\\n",
    "x_2-x_4 & y_2-y_4 & z_2-z_4 \\\\\n",
    "x_3-x_4 & y_3-y_4 & z_3-z_4\n",
    "\\end{pmatrix}\n",
    "\\begin{pmatrix}\n",
    "a_x \\\\ a_y \\\\ a_z\n",
    "\\end{pmatrix}\n",
    "=\n",
    "c^2\n",
    "\\begin{pmatrix}\n",
    "t_1-t_4 \\\\ t_2-t_4 \\\\ t_3-t_4\n",
    "\\end{pmatrix}\n",
    "\\\\\n",
    "\\begin{pmatrix}\n",
    "x_1-x_4 & y_1-y_4 & z_1-z_4 \\\\\n",
    "x_2-x_4 & y_2-y_4 & z_2-z_4 \\\\\n",
    "x_3-x_4 & y_3-y_4 & z_3-z_4\n",
    "\\end{pmatrix}\n",
    "\\begin{pmatrix}\n",
    "b_x \\\\ b_y \\\\ b_z\n",
    "\\end{pmatrix}\n",
    "=\n",
    "-\\frac{1}{2}\n",
    "\\begin{pmatrix}\n",
    "c^2(t_1^2-t_4^2) - x_1^2+y_1^2+z_1^2 + c_0 \\\\\n",
    "c^2(t_2^2-t_4^2) - x_2^2+y_2^2+z_1^2 + c_0 \\\\\n",
    "c^2(t_3^2-t_4^2) - x_3^2+y_3^2+z_1^2 + c_0 \n",
    "\\end{pmatrix}\n",
    "$$\n",
    "\n",
    "Z ostatnich dwóch równości możemy łatwo wyznaczyć współczynniki $a_x, a_y, a_z, b_x, b_y, b_z$.\n",
    "\n",
    "Aby otrzymać konkretne rozwiązanie, możemy podstawić otrzymane zależności do czwartego równania. Wtedy otrzymamy równanie kwadratowe jednej zmiennej następującej postaci\n",
    "\n",
    "$$\n",
    "  t^2(a_x^2+a_y^2+a_x^2-c^2) + 2t(a_x(b_x-x_4)+a_y(b_y-y_4)+a_z(b_z-z_4)-c^2t_4^2) + (b_x-x_4)^2+(b_y-y_4)^2+(b_z-z_4)-c^2t_4^2 = 0\n",
    "$$\n",
    "\n",
    "Po rozwiązaniu równania otrzymamy dwa kandydaty (?) na $t$, które wyznaczą dwa możliwe rozwiązania $x, y, z, t$. W poniższym kodzie przyjęto, że szukanym rozwiązaniem jest to o mniejszym bezwzględnym błędzie zegara."
   ]
  },
  {
   "cell_type": "code",
   "execution_count": 92,
   "metadata": {
    "collapsed": true
   },
   "outputs": [],
   "source": [
    "using Polynomials\n",
    "\n",
    "function algebraic(sats)\n",
    "    x = [sat[1:3] for sat in sats]\n",
    "    t = c * [sat[4] for sat in sats]\n",
    "    \n",
    "    last = length(sats)\n",
    "    A = hcat([x[i] - x[last] for i = 1:(last-1)]...)'\n",
    "    B = t[1:(last-1)] .- t[last]\n",
    "    c0 = sum(abs2, x[last])\n",
    "    C = -0.5 * [ t[i]^2 - t[last]^2 - sum(abs2, x[i]) + c0 for i = 1:(last-1)]\n",
    "    \n",
    "    invA = pinv(A)\n",
    "    a = invA * B\n",
    "    b = invA * C\n",
    "    bdiff = b - x[last]\n",
    "    \n",
    "    coeffs = Array{Float64}(3)\n",
    "    coeffs[1] = sum(abs2, bdiff) - t[last]^2\n",
    "    coeffs[2] = 2*(sum(a .* bdiff) + t[last])\n",
    "    coeffs[3] = sum(abs2, a) - 1\n",
    "    rts = filter(x -> isreal(x), roots(Poly(coeffs)))\n",
    "    if(length(rts) < 2)\n",
    "        push!(rts, 0)\n",
    "    end\n",
    "    \n",
    "#     guess = rts[indmin(abs.(rts))]\n",
    "#     vcat([a[i]*guess + b[i] for i = 1:3], guess / c)\n",
    "    \n",
    "    loc1 = vcat([a[i]*rts[1] + b[i] for i = 1:3], rts[1])\n",
    "    loc2 = vcat([a[i]*rts[2] + b[i] for i = 1:3], rts[2])\n",
    "    M = hcat(sats...)'\n",
    "    M[:, 4] *= c\n",
    "    if(norm(vcat(f(loc1, M), loc1)) < norm(vcat(f(loc2, M), loc2)))\n",
    "        location = loc1\n",
    "    else\n",
    "        location = loc2\n",
    "    end\n",
    "    location[4] /= c\n",
    "    location\n",
    "end; "
   ]
  },
  {
   "cell_type": "markdown",
   "metadata": {},
   "source": [
    "## Metoda Bancrofta"
   ]
  },
  {
   "cell_type": "code",
   "execution_count": 136,
   "metadata": {
    "collapsed": true
   },
   "outputs": [],
   "source": [
    "function bancroft(sats)\n",
    "    A = hcat(sats...)'\n",
    "    A[:, 4] *= c\n",
    "    i = ones(length(sats))\n",
    "    r = 0.5 * [product(A[i, :], A[i, :]) for i=1:size(A, 1)]\n",
    "    B = pinv(A)\n",
    "    \n",
    "    u = B * i\n",
    "    v = B * r\n",
    "    E = product(u, u)\n",
    "    F = product(u, v) - 1\n",
    "    G = product(v, v)\n",
    "    rts = filter(x -> isreal(x), roots(Poly([G, 2*F, E])))\n",
    "    if(length(rts) < 2)\n",
    "        push!(rts, 0)\n",
    "    end\n",
    "    \n",
    "    j = [1, 1, 1, -1]\n",
    "    loc1 = j .* (rts[1] * u + v)\n",
    "    loc2 = j .* (rts[2] * u + v)\n",
    "    if(norm(vcat(f(loc1, A), loc1)) < norm(vcat(f(loc2, A), loc2)))\n",
    "        location = loc1\n",
    "    else\n",
    "        location = loc2\n",
    "    end\n",
    "    location[4] /= c\n",
    "    location\n",
    "end;"
   ]
  },
  {
   "cell_type": "markdown",
   "metadata": {},
   "source": [
    "## Heura"
   ]
  },
  {
   "cell_type": "markdown",
   "metadata": {},
   "source": [
    "Rozwiążemy taki układ równań w sensie najmniejszych kwadratów\n",
    "\n",
    "$$\n",
    "-2x(x_i-x_4) -2y(y_i-y_4) -2z(z_i-z_4) + x_i^2 + y_i^2 + z_i^2 - (x_4^2 + y_4^2 + z_4^2) = c^2(-2t(t_i-t_4)+t_i^2-t_4^2) \\\\\n",
    "$$\n",
    "\n",
    "Inaczej\n",
    "$$\n",
    "\\begin{pmatrix}\n",
    "x_1-x_4 & y_1-y_4 & z_1-z_4 & t_4-t_1 \\\\\n",
    "x_2-x_4 & y_2-y_4 & z_2-z_4 & t_4-t_2 \\\\\n",
    "x_3-x_4 & y_3-y_4 & z_3-z_4 & t_4-t_3\n",
    "\\end{pmatrix}\n",
    "\\begin{pmatrix}\n",
    "x \\\\ y \\\\ z \\\\ t\n",
    "\\end{pmatrix}\n",
    "=\n",
    "-\\frac{1}{2}\n",
    "\\begin{pmatrix}\n",
    "-(x_1^2+y_1^2+z_1^2-t_1^2)+c_1 \\\\\n",
    "-(x_2^2+y_2^2+z_2^2-t_2^2)+c_1 \\\\\n",
    "-(x_3^2+y_3^2+z_3^2-t_3^2)+c_1 \\\\\n",
    "\\end{pmatrix}\n",
    "$$\n",
    "gdzie $c_1=x_4^2+y_4^2+z_4^2-t_4^2$."
   ]
  },
  {
   "cell_type": "code",
   "execution_count": 18,
   "metadata": {
    "collapsed": true
   },
   "outputs": [],
   "source": [
    "function heura(sats)\n",
    "    j = [1, 1, 1, -1]\n",
    "    last = length(sats)\n",
    "    for i=1:last\n",
    "        sats[i][4] *= c\n",
    "    end\n",
    "    \n",
    "    A = hcat([j .* (sats[i] - sats[last]) for i = 1:(last-1)]...)'\n",
    "    c1 = product(sats[last], sats[last])\n",
    "    b = -0.5 * [ c1 - product(sats[i], sats[i]) for i = 1:(last-1) ]\n",
    "    \n",
    "    x = pinv(A) * b\n",
    "    x[4] /= c\n",
    "    x\n",
    "end; "
   ]
  },
  {
   "cell_type": "markdown",
   "metadata": {},
   "source": [
    "## Testy"
   ]
  },
  {
   "cell_type": "code",
   "execution_count": 157,
   "metadata": {},
   "outputs": [
    {
     "name": "stdout",
     "output_type": "stream",
     "text": [
      "[2764.18, 2150.41, -5320.9, -0.0198065]\n",
      "[2764.18, 2150.41, -5320.9, -0.0198065]\n",
      "[2764.18, 2150.41, -5320.9, -0.0198065]\n",
      "[2764.18, 2150.41, -5320.9, -0.0198065]\n",
      "[2764.18, 2150.41, -5320.9, -0.0198065]\n"
     ]
    }
   ],
   "source": [
    "function prepsat!(x, sat)\n",
    "    for i = 1:length(sat)\n",
    "        sat[i][4] = norm(x[1:3]-sat[i][1:3]) / c + x[4]\n",
    "    end\n",
    "end\n",
    "\n",
    "sat = Array{Array{Float64}}(7)\n",
    "\n",
    "sat[1] = [15600.0, 7540.0, 20140.0, 7.074e-2]\n",
    "sat[2] = [18760.0, 2750.0, 18610.0, 7.220e-2]\n",
    "sat[3] = [17610.0, 14630.0, 13480.0, 7.690e-2]\n",
    "sat[4] = [19170.0, 610.0, 18390.0, 7.242e-2]\n",
    "sat[5] = rand_position(sat_rad)\n",
    "sat[6] = rand_position(sat_rad)\n",
    "sat[7] = rand_position(sat_rad)\n",
    "\n",
    "x = rand_position(earth_rad)\n",
    "prepsat!(x, sat)\n",
    "\n",
    "println(x)\n",
    "println(newton(sat))\n",
    "println(algebraic(sat))\n",
    "println(bancroft(sat))\n",
    "println(heura(sat))"
   ]
  },
  {
   "cell_type": "code",
   "execution_count": 10,
   "metadata": {
    "collapsed": true
   },
   "outputs": [],
   "source": [
    "using PyPlot"
   ]
  },
  {
   "cell_type": "code",
   "execution_count": 11,
   "metadata": {},
   "outputs": [
    {
     "name": "stdout",
     "output_type": "stream",
     "text": [
      "NEWTON\n"
     ]
    },
    {
     "data": {
      "image/png": "[encoded data removed]",
      "text/plain": [
       "PyPlot.Figure(PyObject <matplotlib.figure.Figure object at 0x12d73eb90>)"
      ]
     },
     "metadata": {},
     "output_type": "display_data"
    },
    {
     "name": "stdout",
     "output_type": "stream",
     "text": [
      "BIGGEST MISTAKE : 1.6003742522562814 meters\n",
      "SMALLEST MISTAKE : 1.5286752879657923 meters\n",
      "ALGEBRAIC\n",
      "BIGGEST MISTAKE : 0.05434936885500617 meters\n",
      "SMALLEST MISTAKE : 0.0005787661785560477 meters\n"
     ]
    }
   ],
   "source": [
    "function randSgn()\n",
    "    x = rand(0:1)\n",
    "    if x==0\n",
    "        return -1\n",
    "    else\n",
    "        return 1\n",
    "    end\n",
    "end\n",
    "\n",
    "function path(maxiter, lon0, lat0)\n",
    "    a = pi/4\n",
    "    d = 0.000005\n",
    "    lon = lon0 + d*cos(a)\n",
    "    lat = lat0 + d*sin(a)\n",
    "    t=0\n",
    "    res = [[], []]\n",
    "    for i in 1:maxiter\n",
    "        push!(res[1], lon)\n",
    "        push!(res[2], lat)\n",
    "        if t==0\n",
    "            t = rand(20:50)\n",
    "            da = rand()*randSgn()\n",
    "            a +=da\n",
    "        end\n",
    "        lon += d*cos(a)\n",
    "        lat += d*sin(a)\n",
    "        t-=1\n",
    "    end\n",
    "    res\n",
    "end\n",
    "\n",
    "function LLAtoXYZ(LL)\n",
    "    rad = 6378.1\n",
    "    lon = LL[1]\n",
    "    lat = LL[2]\n",
    "    cosLat = cos(lat * pi / 180.0)\n",
    "    sinLat = sin(lat * pi / 180.0)\n",
    "    cosLon = cos(lon * pi / 180.0)\n",
    "    sinLon = sin(lon * pi / 180.0)\n",
    "    x = rad * cosLat * cosLon\n",
    "    y = rad * cosLat * sinLon\n",
    "    z = rad * sinLat\n",
    "    [x, y, z]\n",
    "end\n",
    "\n",
    "function XYZtoLLA(X)\n",
    "    rad = 6378.1\n",
    "    x = X[1]\n",
    "    y = X[2]\n",
    "    z = X[3]\n",
    "    lat = asin(z / rad) * 180 / pi\n",
    "    lon = atan(y / x) * 180 / pi\n",
    "    return [lon, lat]\n",
    "end\n",
    "\n",
    "function inaccuracy()\n",
    "    (1 + rand()/500000000)\n",
    "end\n",
    "\n",
    "function countTime(mistake, Pos, sat)\n",
    "    C = 299792.458\n",
    "    dist = sqrt(sum( [ (Pos[i]-sat[i])^2 for i in 1:3]))\n",
    "    t = dist / C\n",
    "    return [t + mistake]*inaccuracy()\n",
    "end\n",
    "\n",
    "sat_count = 8\n",
    "sat_coords = [ rand_position(sat_rad)[1:3] for i = 1:sat_count ]\n",
    "# sat_coords[1] = [15600,7540,20140]\n",
    "# sat_coords[2] = [18760,2750,18610]\n",
    "# sat_coords[3] = [17610,14630,13480]\n",
    "# sat_coords[4] = [19170,610,18390]\n",
    "\n",
    "function createSats(lon, lat, mistake)\n",
    "    [ vcat(sat_pos, countTime(mistake, LLAtoXYZ([lon, lat]), sat_pos) ) for sat_pos in sat_coords ]\n",
    "#     sat = Array{Array{Float64}}(5)\n",
    "#     sat[1] = vcat(sat1, countTime(mistake, LLAtoXYZ([lon, lat]), sat1) )\n",
    "#     sat[2] = vcat(sat2, countTime(mistake, LLAtoXYZ([lon, lat]), sat2) )\n",
    "#     sat[3] = vcat(sat3, countTime(mistake, LLAtoXYZ([lon, lat]), sat3) )\n",
    "#     sat[4] = vcat(sat4, countTime(mistake, LLAtoXYZ([lon, lat]), sat4) )\n",
    "#     sat[5] = vcat(sat5, countTime(mistake, LLAtoXYZ([lon, lat]), sat5) )\n",
    "#     sat\n",
    "end\n",
    "\n",
    "function GPS_newton(coords, mistake, maxiter=20)\n",
    "    res = [[],[]]\n",
    "    for i in 1:length(coords[1])\n",
    "        sat = createSats(coords[1][i], coords[2][i], mistake)\n",
    "        X = newton(sat, maxiter)\n",
    "        LL = XYZtoLLA(X[1:3])\n",
    "        push!(res[1], LL[1])\n",
    "        push!(res[2], LL[2])\n",
    "    end\n",
    "    return res\n",
    "end\n",
    "\n",
    "function GPS_alg(coords, mistake)\n",
    "    res = [[],[]]\n",
    "    for i in 1:length(coords[1])\n",
    "        sat = createSats(coords[1][i], coords[2][i], mistake)\n",
    "        X = algebraic(sat)\n",
    "        LL = XYZtoLLA(X[1:3])\n",
    "        push!(res[1], LL[1])\n",
    "        push!(res[2], LL[2])\n",
    "    end\n",
    "    return res\n",
    "end\n",
    "\n",
    "function GPS_bancroft(coords, mistake)\n",
    "    res = [[],[]]\n",
    "    for i in 1:length(coords[1])\n",
    "        sat = createSats(coords[1][i], coords[2][i], mistake)\n",
    "        X = bancroft(sat)\n",
    "        LL = XYZtoLLA(X[1:3])\n",
    "        push!(res[1], LL[1])\n",
    "        push!(res[2], LL[2])\n",
    "    end\n",
    "    return res\n",
    "end\n",
    "\n",
    "function MAXdist(coords, gps)\n",
    "    res = 0.0\n",
    "    for i in 1:length(coords[1])\n",
    "        X1 = LLAtoXYZ([coords[1][i], coords[2][i]])\n",
    "        X2 = LLAtoXYZ([gps[1][i], gps[2][i]])\n",
    "        d =sqrt(sum([(X1[i]-X2[i])^2   for i in 1:3] ))\n",
    "        res = max(res, d)\n",
    "    end\n",
    "    return res*1000\n",
    "end\n",
    "\n",
    "function MINdist(coords, gps)\n",
    "    res = 100000.0\n",
    "    for i in 1:length(coords[1])\n",
    "        X1 = LLAtoXYZ([coords[1][i], coords[2][i]])\n",
    "        X2 = LLAtoXYZ([gps[1][i], gps[2][i]])\n",
    "        d =sqrt(sum([(X1[i]-X2[i])^2   for i in 1:3] ))\n",
    "        res = min(res, d)\n",
    "    end\n",
    "    return res*1000\n",
    "end\n",
    "\n",
    "coords = path(3000, -70, -32.5)\n",
    "x = coords[1]\n",
    "y = coords[2]\n",
    "\n",
    "mistake = 0.005\n",
    "\n",
    "newton_coords = GPS_newton(coords, mistake, 3)\n",
    "xn = newton_coords[1]\n",
    "yn = newton_coords[2]\n",
    "\n",
    "alg_coords = GPS_alg(coords, mistake)\n",
    "xa = alg_coords[1]\n",
    "ya = alg_coords[2]\n",
    "\n",
    "fig, ax = subplots()\n",
    "\n",
    "title(\"Ścieżki na mapie\")\n",
    "xlabel(\"długość\")\n",
    "ylabel(\"szerokość\")\n",
    "ax[:plot](x, y, \"-\", color=\"red\", linewidth=8, alpha=1.0)\n",
    "ax[:plot](xn, yn, \"-\", color=\"blue\", linewidth=2, alpha=1.0)\n",
    "ax[:plot](xa, ya, \"-\", color=\"green\", linewidth=2, alpha=1.0)\n",
    "show()\n",
    "\n",
    "\n",
    "println(\"NEWTON\")\n",
    "println(\"BIGGEST MISTAKE : \", MAXdist(coords, newton_coords), \" meters\")\n",
    "println(\"SMALLEST MISTAKE : \", MINdist(coords, newton_coords), \" meters\")\n",
    "println(\"ALGEBRAIC\")\n",
    "println(\"BIGGEST MISTAKE : \", MAXdist(coords, alg_coords), \" meters\")\n",
    "println(\"SMALLEST MISTAKE : \", MINdist(coords, alg_coords), \" meters\")\n"
   ]
  },
  {
   "cell_type": "code",
   "execution_count": 12,
   "metadata": {
    "collapsed": true
   },
   "outputs": [],
   "source": [
    "function alg_mistake_plot(method, coords, maxiter)\n",
    "    res = [[], []]\n",
    "    dm = 0.1\n",
    "    mistake = 0.0\n",
    "    for i in 1:maxiter\n",
    "        alg_coords = method(coords, mistake)\n",
    "        dist = MAXdist(coords, alg_coords)\n",
    "        push!(res[1], mistake)\n",
    "        push!(res[2], dist)\n",
    "        mistake+=dm\n",
    "    end\n",
    "    res\n",
    "end;"
   ]
  },
  {
   "cell_type": "markdown",
   "metadata": {},
   "source": [
    "Maksymalny błąd gpsa w zależności od błędu zegara"
   ]
  },
  {
   "cell_type": "code",
   "execution_count": 13,
   "metadata": {},
   "outputs": [
    {
     "data": {
      "image/png": "[encoded data removed]",
      "text/plain": [
       "PyPlot.Figure(PyObject <matplotlib.figure.Figure object at 0x12e04cf50>)"
      ]
     },
     "metadata": {},
     "output_type": "display_data"
    }
   ],
   "source": [
    "data1 = alg_mistake_plot(GPS_alg, coords, 10)\n",
    "x = data1[1]\n",
    "y1 = data1[2]\n",
    "\n",
    "data2 = alg_mistake_plot(GPS_newton, coords, 10)\n",
    "y2 = data2[2]\n",
    "\n",
    "# data3 = alg_mistake_plot(GPS_bancroft, coords, 50)\n",
    "# y3 = data3[2]\n",
    "\n",
    "fig, ax = subplots()\n",
    "\n",
    "title(\"Błąd metody algebraicznej w zależności od błędu zegara\")\n",
    "ylabel(\"m\")\n",
    "xlabel(\"s\")\n",
    "ax[:plot](x, y1, \"-\", color=\"red\", linewidth=2, alpha=1.0)\n",
    "ax[:plot](x, y2, \"-\", color=\"blue\", linewidth=2, alpha=1.0)\n",
    "# ax[:plot](x, y3, \"-\", color=\"green\", linewidth=2, alpha=1.0)\n",
    "show()"
   ]
  },
  {
   "cell_type": "markdown",
   "metadata": {},
   "source": [
    "maksymalny błąd metody newtona w zależnosći od liczby iteracji"
   ]
  },
  {
   "cell_type": "code",
   "execution_count": 14,
   "metadata": {
    "collapsed": true
   },
   "outputs": [],
   "source": [
    "function newton_mistake_plot(coords, maxiter)\n",
    "    res = [[], []]\n",
    "    for i in 1:maxiter\n",
    "        newton_coords = GPS_newton(coords, 0.005, i)\n",
    "        dist = MAXdist(coords, newton_coords)\n",
    "        push!(res[1], i)\n",
    "        push!(res[2], dist)\n",
    "    end\n",
    "    return res\n",
    "end\n",
    "show()"
   ]
  },
  {
   "cell_type": "code",
   "execution_count": 15,
   "metadata": {},
   "outputs": [
    {
     "name": "stdout",
     "output_type": "stream",
     "text": [
      "1 : 159073.01187887488\n",
      "2 : 3475.407458837369\n",
      "3 : 1.597780533684122\n",
      "4 : 0.053333002170726014\n",
      "5 : 0.05245017062274512\n",
      "6 : 0.055687419148198004\n",
      "7 : 0.051472109860482805\n",
      "8 : 0.05636564744326151\n",
      "9 : 0.05453881112044779\n",
      "10 : 0.0534277115732256\n"
     ]
    }
   ],
   "source": [
    "data = newton_mistake_plot(coords, 10)\n",
    "x = data[1]\n",
    "y = data[2]\n",
    "\n",
    "for i in 1:10\n",
    "    println(x[i], \" : \", y[i])\n",
    "end"
   ]
  },
  {
   "cell_type": "markdown",
   "metadata": {
    "collapsed": true
   },
   "source": [
    "## Dokładność"
   ]
  },
  {
   "cell_type": "code",
   "execution_count": 162,
   "metadata": {},
   "outputs": [
    {
     "name": "stdout",
     "output_type": "stream",
     "text": [
      "Newton's avg error: 1.2945376586454884e-26\n",
      "Algebraic avg error: 1.4237846293723062e-26\n",
      "Bancroft's avg error: 2.0270060910800685e-25\n",
      "Heura's avg error: 6332.592716416087\n"
     ]
    }
   ],
   "source": [
    "earth_rad = 6370.0\n",
    "sat_rad = 20e3\n",
    "\n",
    "function rand_position(radius) \n",
    "    x = randSgn() * rand() * radius\n",
    "    y = randSgn() * rand() * (radius - abs(x))\n",
    "    z = randSgn() * sqrt(radius^2 - x^2 - y^2)\n",
    "    t = randSgn() * rand() / 10\n",
    "    [x, y, z, t]\n",
    "end\n",
    "\n",
    "sat_count = 10\n",
    "sat = Array{Array{Float64}}(sat_count)\n",
    "\n",
    "mean1 = 0\n",
    "mean2 = 0\n",
    "mean3 = 0\n",
    "mean4 = 0\n",
    "\n",
    "iters = 5000\n",
    "\n",
    "for i = 1:iters\n",
    "    sat = [ rand_position(sat_rad) for j = 1:sat_count ]\n",
    "    x = rand_position(earth_rad)\n",
    "    prepsat!(x, sat)\n",
    "    \n",
    "    x1 = newton(sat)\n",
    "    x2 = algebraic(sat)\n",
    "    x3 = bancroft(sat)\n",
    "    x4 = heura(sat)\n",
    "\n",
    "    mean1 = sum(abs2, x1 - x)\n",
    "    mean2 = sum(abs2, x2 - x)\n",
    "    mean3 = sum(abs2, x3 - x)\n",
    "    mean4 = sum(abs2, x4 - x)\n",
    "end\n",
    "\n",
    "mean1 /= iters\n",
    "mean2 /= iters\n",
    "mean3 /= iters\n",
    "mean4 /= iters\n",
    "\n",
    "println(\"Newton's avg error: \", mean1)\n",
    "println(\"Algebraic avg error: \", mean2)\n",
    "println(\"Bancroft's avg error: \", mean3)\n",
    "println(\"Heura's avg error: \", mean4)"
   ]
  },
  {
   "cell_type": "code",
   "execution_count": null,
   "metadata": {
    "collapsed": true
   },
   "outputs": [],
   "source": []
  }
 ],
 "metadata": {
  "kernelspec": {
   "display_name": "Julia 0.6.0",
   "language": "julia",
   "name": "julia-0.6"
  },
  "language_info": {
   "file_extension": ".jl",
   "mimetype": "application/julia",
   "name": "julia",
   "version": "0.6.0"
  }
 },
 "nbformat": 4,
 "nbformat_minor": 2
}
