{
 "cells": [
  {
   "cell_type": "markdown",
   "metadata": {},
   "source": [
    "# Notatki do pracowni drugiej"
   ]
  },
  {
   "cell_type": "markdown",
   "metadata": {},
   "source": [
    "Rozwiązujemy układ równań\n",
    "\n",
    "\\begin{equation}\n",
    "(x-x_1)^2 + (y-y_1)^2 + (z-z_1)^2 = \\big[c(t_1-t)\\big]^2 \\\\\n",
    "(x-x_2)^2 + (y-y_2)^2 + (z-z_2)^2 = \\big[c(t_2-t)\\big]^2 \\\\\n",
    "(x-x_3)^2 + (y-y_3)^2 + (z-z_3)^2 = \\big[c(t_3-t)\\big]^2 \\\\\n",
    "(x-x_4)^2 + (y-y_4)^2 + (z-z_4)^2 = \\big[c(t_4-t)\\big]^2 \\\\\n",
    "\\end{equation}\n",
    "\n",
    "Niech\n",
    "\\begin{equation}\n",
    "f_i(x, y, z, t) = (x-x_i)^2 + (y-y_i)^2 + (z-z_i)^2 - \\big[c(t_i-t)\\big]^2\n",
    "\\end{equation}"
   ]
  },
  {
   "cell_type": "markdown",
   "metadata": {},
   "source": [
    "## Metoda Newtona"
   ]
  },
  {
   "cell_type": "markdown",
   "metadata": {},
   "source": [
    "Z uogólnionego twierdzenia Taylora mamy\n",
    "\\begin{equation}\n",
    "f_i(x + h_x, y + h_y, z + h_z, t + h_t) \\approx f_i(x, y, z, t) + h_x \\frac{\\partial f_i}{\\partial x}(x, y, z, t) \n",
    "+ h_y \\frac{\\partial f_i}{\\partial y}(x, y, z, t) + h_z \\frac{\\partial f_i}{\\partial z}(x, y, z, t)\n",
    "+ h_t \\frac{\\partial f_i}{\\partial t}(x, y, z, t)\n",
    "\\end{equation}\n",
    "\n",
    "Ponadto\n",
    "\\begin{equation}\n",
    "\\frac{\\partial f_i}{\\partial x} = 2(x-x_i) \\\\\n",
    "\\frac{\\partial f_i}{\\partial y} = 2(y-y_i) \\\\\n",
    "\\frac{\\partial f_i}{\\partial z} = 2(z-z_i) \\\\\n",
    "\\frac{\\partial f_i}{\\partial t} = -2c^2(t-t_i)\n",
    "\\end{equation}\n",
    "\n",
    "Stąd\n",
    "\\begin{equation}\n",
    "f_i(x + h_x, y + h_y, z + h_z, t + h_t) \\approx f_i(x, y, z, t) + 2h_x(x-x_i) + 2h_y(y-y_i) + 2h_z(z-z_i) -2c^2h_t(t-t_i)\n",
    "\\end{equation}"
   ]
  },
  {
   "cell_type": "markdown",
   "metadata": {},
   "source": [
    "Zastosujemy metodę Newtona. Chcemy znaleźć $x, y, z, t$, dla których $f_i(x, y, z, t) = 0$ dla $1 \\leq i \\leq 4$.\n",
    "Niech $x_n \\in \\mathbb{R}^4$ będzie n-tym przybliżeniem metody Newtona. Szukamy $h \\in \\mathbb{R}^4$, takiego że\n",
    "dla $x_{n+1} = x_n + h$ zajdzie $f_i(x_{n+1}) = 0$ dla $1 \\leq i \\leq 4$.\n",
    "\n",
    "Niech\n",
    "$$\n",
    "x_n = \n",
    "    \\begin{pmatrix}\n",
    "    x \\\\\n",
    "    y \\\\\n",
    "    z \\\\\n",
    "    t\n",
    "    \\end{pmatrix}\n",
    "$$\n",
    "\n",
    "Rozwiążemy układ równań\n",
    "\\begin{equation}\n",
    "0 = f_1(x, y, z, t) + 2h_x(x-x_1) + 2h_y(y-y_1) + 2h_z(z-z_1) -2c^2h_t(t-t_1) \\\\\n",
    "0 = f_2(x, y, z, t) + 2h_x(x-x_2) + 2h_y(y-y_2) + 2h_z(z-z_2) -2c^2h_t(t-t_2) \\\\\n",
    "0 = f_3(x, y, z, t) + 2h_x(x-x_3) + 2h_y(y-y_3) + 2h_z(z-z_3) -2c^2h_t(t-t_3) \\\\\n",
    "0 = f_4(x, y, z, t) + 2h_x(x-x_4) + 2h_y(y-y_4) + 2h_z(z-z_4) -2c^2h_t(t-t_4)\n",
    "\\end{equation}\n",
    "Inaczej\n",
    "\\begin{equation}\n",
    "\\begin{pmatrix}\n",
    "x-x_1  & y-y_1 & z-z_1 & -c^2(t-t_1) \\\\\n",
    "x-x_2  & y-y_2 & z-z_2 & -c^2(t-t_2) \\\\\n",
    "x-x_3  & y-y_3 & z-z_3 & -c^2(t-t_3) \\\\\n",
    "x-x_4  & y-y_4 & z-z_4 & -c^2(t-t_4) \\\\\n",
    "\\end{pmatrix}\n",
    "\\begin{pmatrix}\n",
    "h_x \\\\ h_y \\\\ h_z \\\\ h_t\n",
    "\\end{pmatrix}\n",
    "=\n",
    "-\\frac{1}{2}\n",
    "\\begin{pmatrix}\n",
    "f_1(x, y, z, t) \\\\\n",
    "f_2(x, y, z, t) \\\\\n",
    "f_3(x, y, z, t) \\\\\n",
    "f_4(x, y, z, t)\n",
    "\\end{pmatrix}\n",
    "\\end{equation}\n",
    "\n",
    "Wtedy \n",
    "$$\n",
    "x_{n+1} = x_n + h = x_n + \\begin{pmatrix} h_x \\\\ h_y \\\\ h_z \\\\ h_t \\end{pmatrix}\n",
    "$$"
   ]
  },
  {
   "cell_type": "code",
   "execution_count": 2,
   "metadata": {
    "collapsed": true
   },
   "outputs": [],
   "source": [
    "c = 299792.458;"
   ]
  },
  {
   "cell_type": "code",
   "execution_count": 3,
   "metadata": {
    "collapsed": true
   },
   "outputs": [],
   "source": [
    "function fsingle(x, sat)\n",
    "    a = (x - sat) .^ 2\n",
    "    a[4] *= -c^2\n",
    "    sum(a)\n",
    "end\n",
    "\n",
    "function fvect(x, sats)\n",
    "    [fsingle(x, sats[i]) for i = 1:length(sats)]\n",
    "end\n",
    "\n",
    "function getcoeffs(x, sats)\n",
    "    A = [x - sats[i] for i = 1:length(sats)]\n",
    "    A = hcat(A...)'\n",
    "    A[:, 4] *= -c^2\n",
    "    A\n",
    "end\n",
    "\n",
    "function newton(sats, maxiter)\n",
    "    x = [0, 0, 6370, 0]\n",
    "    for i = 1:maxiter\n",
    "        A = getcoeffs(x, sats)\n",
    "        B = fvect(x, sats)\n",
    "        h = -0.5 * (A \\ B)\n",
    "        x = x + h\n",
    "    end\n",
    "    x\n",
    "end;"
   ]
  },
  {
   "cell_type": "markdown",
   "metadata": {},
   "source": [
    "## Metoda algebraiczna"
   ]
  },
  {
   "cell_type": "markdown",
   "metadata": {},
   "source": [
    "Zastosujemy inne podejście (nieiteracyjne). Rozważany układ równań wygląda następująco\n",
    "\n",
    "$$\n",
    "x^2 + y^2 + z^2 -2xx_1 -2yy_1 -2zz_1 + x_1^2 + y_1^2 + z_1^2 = c^2(t^2 -2tt_1 + t_1^2) \\\\\n",
    "x^2 + y^2 + z^2 -2xx_2 -2yy_2 -2zz_2 + x_2^2 + y_2^2 + z_2^2 = c^2(t^2 -2tt_2 + t_2^2) \\\\\n",
    "x^2 + y^2 + z^2 -2xx_3 -2yy_3 -2zz_3 + x_3^2 + y_3^2 + z_3^2 = c^2(t^2 -2tt_3 + t_3^2) \\\\\n",
    "x^2 + y^2 + z^2 -2xx_4 -2yy_4 -2zz_4 + x_4^2 + y_4^2 + z_4^2 = c^2(t^2 -2tt_4 + t_4^2)\n",
    "$$\n",
    "\n",
    "Po odjęciu czwartego równania stronami od pierwszych trzech otrzymamy\n",
    "\n",
    "$$\n",
    "-2x(x_1-x_4) -2y(y_1-y_4) -2z(z_1-z_4) + x_1^2 + y_1^2 + z_1^2 - (x_4^2 + y_4^2 + z_4^2) = c^2(-2t(t_1-t_4)+t_1^2-t_4^2) \\\\\n",
    "-2x(x_2-x_4) -2y(y_2-y_4) -2z(z_2-z_4) + x_2^2 + y_2^2 + z_2^2 - (x_4^2 + y_4^2 + z_4^2) = c^2(-2t(t_2-t_4)+t_2^2-t_4^2) \\\\ \n",
    "-2x(x_3-x_4) -2y(y_3-y_4) -2z(z_3-z_4) + x_3^2 + y_3^2 + z_3^2 - (x_4^2 + y_4^2 + z_4^2) = c^2(-2t(t_3-t_4)+t_3^2-t_4^2)\n",
    "$$\n",
    "\n",
    "Otrzymaliśmy więc układ 3 równań liniowych na 4 zmiennych. Układ taki nie posiada jednozanczego rozwiązania, ale - o ile nie jest sprzeczny - posiada rozwiązania parametryczne. W naszym przypadku (dla realnych danych) powinno to być rozwiązanie zależne od jednego parametru. Oznacza to, że pozostałe zmienne można wyrazić jako kombinacje liniowe tego parametru tak, aby dla dowolnej wartości parametru układ równań był spełniony. Ponieważ dla faktycznych danych żadna zmienna nie powinna być z góry ustalona (na trzech równaniach), to możemy założyć, że parametrem jest $t$. Wtedy dla pewnych rzeczywistych $a_x, a_y, a_z, b_x, b_y, b_z$ mamy\n",
    "\n",
    "$$ \n",
    "x = a_xt + b_x \\\\\n",
    "y = a_yt + b_y \\\\\n",
    "z = a_zt + b_z\n",
    "$$\n",
    "Wówczas dla dowolnego $t$ zachodzi\n",
    "\n",
    "$$\n",
    "-2(a_xt+b_x)(x_1-x_4)-2(a_yt+b_y)(y_1-y_4)-2(a_xt+b_z)(z_1-z_4)+x_1^2+y_1^2+z_1^2-c_0=c^2(-2t(t_1-t_4)+t_1^2-t_4^2) \\\\\n",
    "-2(a_xt+b_x)(x_2-x_4)-2(a_yt+b_y)(y_2-y_4)-2(a_xt+b_z)(z_2-z_4)+x_2^2+y_2^2+z_2^2-c_0=c^2(-2t(t_2-t_4)+t_2^2-t_4^2) \\\\\n",
    "-2(a_xt+b_x)(x_3-x_4)-2(a_yt+b_y)(y_3-y_4)-2(a_xt+b_z)(z_3-z_4)+x_3^2+y_3^2+z_3^2-c_0=c^2(-2t(t_3-t_4)+t_3^2-t_4^2)\n",
    "$$\n",
    "\n",
    "gdzie $c_0 = x_4^2 + y_4^2 + z_4^2$.\n",
    "\n",
    "Otrzymaliśmy zatem równości trzech funckji liniowych dla każdego argumentu. \n",
    "\n",
    "Stąd\n",
    "$$\n",
    "a_x(x_1-x_4) + a_y(y_1-y_4) + a_z(z_1-z_4) = c^2(t_1-t_4) \\\\\n",
    "a_x(x_2-x_4) + a_y(y_2-y_4) + a_z(z_2-z_4) = c^2(t_2-t_4) \\\\\n",
    "a_x(x_3-x_4) + a_y(y_3-y_4) + a_z(z_3-z_4) = c^2(t_3-t_4) \\\\\n",
    "-2(b_x(x_1-x_4)+b_y(y_1-y_4)+b_z(z_1-z_4)) + x_1^2+y_1^2+z_1^2 - c_0 = c^2(t_1^2 - t_4^2) \\\\\n",
    "-2(b_x(x_2-x_4)+b_y(y_2-y_4)+b_z(z_2-z_4)) + x_2^2+y_2^2+z_2^2 - c_0 = c^2(t_2^2 - t_4^2) \\\\\n",
    "-2(b_x(x_3-x_4)+b_y(y_3-y_4)+b_z(z_3-z_4)) + x_3^2+y_3^2+z_3^2 - c_0 = c^2(t_3^2 - t_4^2)\n",
    "$$\n",
    "\n",
    "Inaczej\n",
    "$$\n",
    "\\begin{pmatrix}\n",
    "x_1-x_4 & y_1-y_4 & z_1-z_4 \\\\\n",
    "x_2-x_4 & y_2-y_4 & z_2-z_4 \\\\\n",
    "x_3-x_4 & y_3-y_4 & z_3-z_4\n",
    "\\end{pmatrix}\n",
    "\\begin{pmatrix}\n",
    "a_x \\\\ a_y \\\\ a_z\n",
    "\\end{pmatrix}\n",
    "=\n",
    "c^2\n",
    "\\begin{pmatrix}\n",
    "t_1-t_4 \\\\ t_2-t_4 \\\\ t_3-t_4\n",
    "\\end{pmatrix}\n",
    "\\\\\n",
    "\\begin{pmatrix}\n",
    "x_1-x_4 & y_1-y_4 & z_1-z_4 \\\\\n",
    "x_2-x_4 & y_2-y_4 & z_2-z_4 \\\\\n",
    "x_3-x_4 & y_3-y_4 & z_3-z_4\n",
    "\\end{pmatrix}\n",
    "\\begin{pmatrix}\n",
    "b_x \\\\ b_y \\\\ b_z\n",
    "\\end{pmatrix}\n",
    "=\n",
    "-\\frac{1}{2}\n",
    "\\begin{pmatrix}\n",
    "c^2(t_1^2-t_4^2) - x_1^2+y_1^2+z_1^2 + c_0 \\\\\n",
    "c^2(t_2^2-t_4^2) - x_2^2+y_2^2+z_1^2 + c_0 \\\\\n",
    "c^2(t_3^2-t_4^2) - x_3^2+y_3^2+z_1^2 + c_0 \n",
    "\\end{pmatrix}\n",
    "$$\n",
    "\n",
    "Z ostatnich dwóch równości możemy łatwo wyznaczyć współczynniki $a_x, a_y, a_z, b_x, b_y, b_z$.\n",
    "\n",
    "Aby otrzymać konkretne rozwiązanie, możemy podstawić otrzymane zależności do czwartego równania. Wtedy otrzymamy równanie kwadratowe jednej zmiennej następującej postaci\n",
    "\n",
    "$$\n",
    "  t^2(a_x^2+a_y^2+a_x^2-c^2) + 2t(a_x(b_x-x_4)+a_y(b_y-y_4)+a_z(b_z-z_4)-c^2t_4^2) + (b_x-x_4)^2+(b_y-y_4)^2+(b_z-z_4)-c^2t_4^2 = 0\n",
    "$$\n",
    "\n",
    "Po rozwiązaniu równania otrzymamy dwa kandydaty (?) na $t$, które wyznaczą dwa możliwe rozwiązania $x, y, z, t$. W poniższym kodzie przyjęto, że szukanym rozwiązaniem jest to o mniejszym bezwzględnym błędzie zegara."
   ]
  },
  {
   "cell_type": "code",
   "execution_count": 4,
   "metadata": {
    "collapsed": true
   },
   "outputs": [],
   "source": [
    "using Polynomials\n",
    "\n",
    "function algebraic(sats)\n",
    "    x = [sat[1:3] for sat in sats]\n",
    "    t = [sat[4] for sat in sats]\n",
    "    A = hcat([x[i] - x[4] for i = 1:3]...)'\n",
    "    B = c^2 * (t[1:3] .- t[4])\n",
    "    sum4 = sum(x[4] .^ 2)\n",
    "    C = -0.5 * [ c^2*(t[i]^2 - t[4]^2) - sum(x[i] .^ 2) + sum4 for i = 1:3]\n",
    "    \n",
    "    a = A \\ B\n",
    "    b = A \\ C\n",
    "    bdiff = b - x[4]\n",
    "    \n",
    "    coeffs = Array{Float64}(3)\n",
    "    coeffs[1] = sum(bdiff .^ 2) - c^2*t[4]^2\n",
    "    coeffs[2] = 2*(sum(a .* bdiff) + c^2*t[4])\n",
    "    coeffs[3] = sum(a.^2) - c^2\n",
    "    rts = filter(x -> isreal(x), roots(Poly(coeffs)))\n",
    "    guess = rts[indmin(abs.(rts))]\n",
    "    \n",
    "    vcat([a[i]*guess + b[i] for i = 1:3], guess)\n",
    "end; "
   ]
  },
  {
   "cell_type": "markdown",
   "metadata": {},
   "source": [
    "## Testy"
   ]
  },
  {
   "cell_type": "code",
   "execution_count": 6,
   "metadata": {},
   "outputs": [
    {
     "name": "stdout",
     "output_type": "stream",
     "text": [
      "[-41.7727, -16.7892, 6370.06, -0.00320157]\n",
      "[-41.7727, -16.7892, 6370.06, -0.00320157]\n",
      "[-41.7727, -16.7892, 6370.06, -0.00320157]\n",
      "[123.457, -1234.12, 6300.54, 0.000567]\n",
      "[123.457, -1234.12, 6300.54, 0.000567]\n",
      "[12.8232, 3.12312, -7.12388, 0.943]\n",
      "[12.8232, 3.12312, -7.12388, 0.943]\n",
      "[1841.3, -5054.36, -3426.47, 0.00100457]\n",
      "[1841.3, -5054.36, -3426.47, 0.00100457]\n"
     ]
    }
   ],
   "source": [
    "function prepsat!(x, sat)\n",
    "    for i = 1:length(sat)\n",
    "        sat[i][4] = norm(x[1:3]-sat[i][1:3]) / c + x[4]\n",
    "    end\n",
    "end\n",
    "\n",
    "sat = Array{Array{Float64}}(4)\n",
    "\n",
    "sat[1] = [15600.0, 7540.0, 20140.0, 7.074e-2]\n",
    "sat[2] = [18760.0, 2750.0, 18610.0, 7.220e-2]\n",
    "sat[3] = [17610.0, 14630.0, 13480.0, 7.690e-2]\n",
    "sat[4] = [19170.0, 610.0, 18390.0, 7.242e-2]\n",
    "\n",
    "println(newton(sat, 15))\n",
    "println(algebraic(sat))"
   ]
  },
  {
   "cell_type": "code",
   "execution_count": 7,
   "metadata": {
    "collapsed": true
   },
   "outputs": [],
   "source": [
    "using PyPlot"
   ]
  },
  {
   "cell_type": "code",
   "execution_count": 20,
   "metadata": {},
   "outputs": [
    {
     "name": "stdout",
     "output_type": "stream",
     "text": [
      "NEWTON\n",
      "BIGGEST MISTAKE : 26.001504619383965 meters\n"
     ]
    },
    {
     "data": {
      "image/png": "[encoded data removed]",
      "text/plain": [
       "PyPlot.Figure(PyObject <matplotlib.figure.Figure object at 0x7f1640e4ce10>)"
      ]
     },
     "metadata": {},
     "output_type": "display_data"
    },
    {
     "name": "stdout",
     "output_type": "stream",
     "text": [
      "SMALLEST MISTAKE : 18.6443355529159 meters\n",
      "ALGEBRAIC\n",
      "BIGGEST MISTAKE : 4.84843345730925 meters\n",
      "SMALLEST MISTAKE : 0.02445833496010369 meters\n"
     ]
    }
   ],
   "source": [
    "function randSgn()\n",
    "    x = rand(0:1)\n",
    "    if x==0\n",
    "        return -1\n",
    "    else\n",
    "        return 1\n",
    "    end\n",
    "end\n",
    "\n",
    "function path(maxiter, lon0, lat0)\n",
    "    a = pi/4\n",
    "    d = 0.000005\n",
    "    lon = lon0 + d*cos(a)\n",
    "    lat = lat0 + d*sin(a)\n",
    "    t=0\n",
    "    res = [[], []]\n",
    "    for i in 1:maxiter\n",
    "        push!(res[1], lon)\n",
    "        push!(res[2], lat)\n",
    "        if t==0\n",
    "            t = rand(20:50)\n",
    "            da = rand()*randSgn()\n",
    "            a +=da\n",
    "        end\n",
    "        lon += d*cos(a)\n",
    "        lat += d*sin(a)\n",
    "        t-=1\n",
    "    end\n",
    "    res\n",
    "end\n",
    "\n",
    "function LLAtoXYZ(LL)\n",
    "    rad = 6378.1\n",
    "    lon = LL[1]\n",
    "    lat = LL[2]\n",
    "    cosLat = cos(lat * pi / 180.0)\n",
    "    sinLat = sin(lat * pi / 180.0)\n",
    "    cosLon = cos(lon * pi / 180.0)\n",
    "    sinLon = sin(lon * pi / 180.0)\n",
    "    x = rad * cosLat * cosLon\n",
    "    y = rad * cosLat * sinLon\n",
    "    z = rad * sinLat\n",
    "    [x, y, z]\n",
    "end\n",
    "\n",
    "function XYZtoLLA(X)\n",
    "    rad = 6378.1\n",
    "    x = X[1]\n",
    "    y = X[2]\n",
    "    z = X[3]\n",
    "    lat = asin(z / rad) * 180 / pi\n",
    "    lon = atan(y / x) * 180 / pi\n",
    "    return [lon, lat]\n",
    "end\n",
    "\n",
    "function inaccuracy()\n",
    "    (1 + rand()/500000000)\n",
    "end\n",
    "\n",
    "function countTime(mistake, Pos, sat)\n",
    "    C = 299792.458\n",
    "    dist = sqrt(sum( [ (Pos[i]-sat[i])^2 for i in 1:3]))\n",
    "    t = dist / C\n",
    "    return [t + mistake]*inaccuracy()\n",
    "end\n",
    "\n",
    "\n",
    "sat1 = [15600,7540,20140]\n",
    "sat2 = [18760,2750,18610]\n",
    "sat3 = [17610,14630,13480]\n",
    "sat4 = [19170,610,18390]\n",
    "\n",
    "function createSats(lon, lat, mistake)\n",
    "    sat = Array{Array{Float64}}(4)\n",
    "    sat[1] = vcat(sat1, countTime(mistake, LLAtoXYZ([lon, lat]), sat1) )\n",
    "    sat[2] = vcat(sat2, countTime(mistake, LLAtoXYZ([lon, lat]), sat2) )\n",
    "    sat[3] = vcat(sat3, countTime(mistake, LLAtoXYZ([lon, lat]), sat3) )\n",
    "    sat[4] = vcat(sat4, countTime(mistake, LLAtoXYZ([lon, lat]), sat4) )\n",
    "    sat\n",
    "end\n",
    "\n",
    "function GPS_newton(coords, mistake, maxiter)\n",
    "    res = [[],[]]\n",
    "    for i in 1:length(coords[1])\n",
    "        sat = createSats(coords[1][i], coords[2][i], mistake)\n",
    "        X = newton(sat, maxiter)\n",
    "        LL = XYZtoLLA(X[1:3])\n",
    "        push!(res[1], LL[1])\n",
    "        push!(res[2], LL[2])\n",
    "    end\n",
    "    return res\n",
    "end\n",
    "\n",
    "function GPS_alg(coords, mistake)\n",
    "    res = [[],[]]\n",
    "    for i in 1:length(coords[1])\n",
    "        sat = createSats(coords[1][i], coords[2][i], mistake)\n",
    "        X = algebraic(sat)\n",
    "        LL = XYZtoLLA(X[1:3])\n",
    "        push!(res[1], LL[1])\n",
    "        push!(res[2], LL[2])\n",
    "    end\n",
    "    return res\n",
    "end\n",
    "\n",
    "function MAXdist(coords, gps)\n",
    "    res = 0.0\n",
    "    for i in 1:length(coords[1])\n",
    "        X1 = LLAtoXYZ([coords[1][i], coords[2][i]])\n",
    "        X2 = LLAtoXYZ([gps[1][i], gps[2][i]])\n",
    "        d =sqrt(sum([(X1[i]-X2[i])^2   for i in 1:3] ))\n",
    "        res = max(res, d)\n",
    "    end\n",
    "    return res*1000\n",
    "end\n",
    "\n",
    "function MINdist(coords, gps)\n",
    "    res = 100000.0\n",
    "    for i in 1:length(coords[1])\n",
    "        X1 = LLAtoXYZ([coords[1][i], coords[2][i]])\n",
    "        X2 = LLAtoXYZ([gps[1][i], gps[2][i]])\n",
    "        d =sqrt(sum([(X1[i]-X2[i])^2   for i in 1:3] ))\n",
    "        res = min(res, d)\n",
    "    end\n",
    "    return res*1000\n",
    "end\n",
    "\n",
    "coords = path(3000, -70, -32.5)\n",
    "x = coords[1]\n",
    "y = coords[2]\n",
    "\n",
    "mistake = 0.005\n",
    "\n",
    "newton_coords = GPS_newton(coords, mistake, 3)\n",
    "xn = newton_coords[1]\n",
    "yn = newton_coords[2]\n",
    "\n",
    "alg_coords = GPS_alg(coords, mistake)\n",
    "xa = alg_coords[1]\n",
    "ya = alg_coords[2]\n",
    "\n",
    "fig, ax = subplots()\n",
    "\n",
    "title(\"Ścieżki na mapie\")\n",
    "xlabel(\"długość\")\n",
    "ylabel(\"szerokość\")\n",
    "ax[:plot](x, y, \"-\", color=\"red\", linewidth=8, alpha=1.0)\n",
    "ax[:plot](xn, yn, \"-\", color=\"blue\", linewidth=2, alpha=1.0)\n",
    "ax[:plot](xa, ya, \"-\", color=\"green\", linewidth=2, alpha=1.0)\n",
    "show()\n",
    "\n",
    "\n",
    "println(\"NEWTON\")\n",
    "println(\"BIGGEST MISTAKE : \", MAXdist(coords, newton_coords), \" meters\")\n",
    "println(\"SMALLEST MISTAKE : \", MINdist(coords, newton_coords), \" meters\")\n",
    "println(\"ALGEBRAIC\")\n",
    "println(\"BIGGEST MISTAKE : \", MAXdist(coords, alg_coords), \" meters\")\n",
    "println(\"SMALLEST MISTAKE : \", MINdist(coords, alg_coords), \" meters\")\n"
   ]
  },
  {
   "cell_type": "code",
   "execution_count": 14,
   "metadata": {
    "collapsed": true
   },
   "outputs": [],
   "source": [
    "function alg_mistake_plot(coords, maxiter)\n",
    "    res = [[], []]\n",
    "    dm = 0.05\n",
    "    mistake = 0.0\n",
    "    for i in 1:maxiter\n",
    "        alg_coords = GPS_alg(coords, mistake)\n",
    "        dist = MAXdist(coords, alg_coords)\n",
    "        push!(res[1], mistake)\n",
    "        push!(res[2], dist)\n",
    "        mistake+=dm\n",
    "    end\n",
    "    res\n",
    "end\n",
    "show()"
   ]
  },
  {
   "cell_type": "markdown",
   "metadata": {},
   "source": [
    "Maksymalny błąd gpsa w zależności od błędu zegara"
   ]
  },
  {
   "cell_type": "code",
   "execution_count": 17,
   "metadata": {},
   "outputs": [
    {
     "data": {
      "image/png": "[encoded data removed]",
      "text/plain": [
       "PyPlot.Figure(PyObject <matplotlib.figure.Figure object at 0x138474510>)"
      ]
     },
     "metadata": {},
     "output_type": "display_data"
    }
   ],
   "source": [
    "data = alg_mistake_plot(coords, 100)\n",
    "x = data[1]\n",
    "y = data[2]\n",
    "\n",
    "fig, ax = subplots()\n",
    "\n",
    "title(\"Błąd metody algebraicznej w zależności od błędu zegara\")\n",
    "ylabel(\"m\")\n",
    "xlabel(\"s\")\n",
    "ax[:plot](x, y, \"-\", color=\"red\", linewidth=2, alpha=1.0)\n",
    "show()"
   ]
  },
  {
   "cell_type": "markdown",
   "metadata": {},
   "source": [
    "maksymalny błąd metody newtona w zależnosći od liczby iteracji"
   ]
  },
  {
   "cell_type": "code",
   "execution_count": 10,
   "metadata": {
    "collapsed": true
   },
   "outputs": [],
   "source": [
    "function newton_mistake_plot(coords, maxiter)\n",
    "    res = [[], []]\n",
    "    for i in 1:maxiter\n",
    "        newton_coords = GPS_newton(coords, 0.005, i)\n",
    "        dist = MAXdist(coords, newton_coords)\n",
    "        push!(res[1], i)\n",
    "        push!(res[2], dist)\n",
    "    end\n",
    "    return res\n",
    "end\n",
    "show()"
   ]
  },
  {
   "cell_type": "code",
   "execution_count": 11,
   "metadata": {},
   "outputs": [
    {
     "name": "stdout",
     "output_type": "stream",
     "text": [
      "1 : 312071.8429078798\n",
      "2 : 13407.561335977227\n",
      "3 : 22.065578470293033\n",
      "4 : 6.065872350640799e-5\n",
      "5 : 9.895779870282863e-7\n",
      "6 : 1.11905635877406e-6\n",
      "7 : 1.0270710536065804e-6\n",
      "8 : 1.0281743324994513e-6\n",
      "9 : 8.144885911637785e-7\n",
      "10 : 9.518847325195673e-7\n"
     ]
    }
   ],
   "source": [
    "data = newton_mistake_plot(coords, 10)\n",
    "x = data[1]\n",
    "y = data[2]\n",
    "\n",
    "for i in 1:10\n",
    "    println(x[i], \" : \", y[i])\n",
    "end"
   ]
  },
  {
   "cell_type": "code",
   "execution_count": null,
   "metadata": {
    "collapsed": true
   },
   "outputs": [],
   "source": []
  }
 ],
 "metadata": {
  "kernelspec": {
   "display_name": "Julia 0.6.0",
   "language": "julia",
   "name": "julia-0.6"
  },
  "language_info": {
   "file_extension": ".jl",
   "mimetype": "application/julia",
   "name": "julia",
   "version": "0.6.0"
  }
 },
 "nbformat": 4,
 "nbformat_minor": 2
}
