{
 "cells": [
  {
   "cell_type": "markdown",
   "metadata": {},
   "source": [
    "# Notatki do pracowni drugiej"
   ]
  },
  {
   "cell_type": "markdown",
   "metadata": {},
   "source": [
    "Rozwiązujemy układ równań\n",
    "\n",
    "\\begin{equation}\n",
    "(x-x_1)^2 + (y-y_1)^2 + (z-z_1)^2 = \\big[c(t_1-t)\\big]^2 \\\\\n",
    "(x-x_2)^2 + (y-y_2)^2 + (z-z_2)^2 = \\big[c(t_2-t)\\big]^2 \\\\\n",
    "(x-x_3)^2 + (y-y_3)^2 + (z-z_3)^2 = \\big[c(t_3-t)\\big]^2 \\\\\n",
    "(x-x_4)^2 + (y-y_4)^2 + (z-z_4)^2 = \\big[c(t_4-t)\\big]^2 \\\\\n",
    "\\end{equation}\n",
    "\n",
    "Niech\n",
    "\\begin{equation}\n",
    "f_i(x, y, z, t) = (x-x_i)^2 + (y-y_i)^2 + (z-z_i)^2 - \\big[c(t_i-t)\\big]^2\n",
    "\\end{equation}\n",
    "\n",
    "Z uogólnionego twierdzenia Taylora mamy\n",
    "\\begin{equation}\n",
    "f_i(x + h_x, y + h_y, z + h_z, t + h_t) \\approx f_i(x, y, z, t) + h_x \\frac{\\partial f_i}{\\partial x}(x, y, z, t) \n",
    "+ h_y \\frac{\\partial f_i}{\\partial y}(x, y, z, t) + h_z \\frac{\\partial f_i}{\\partial z}(x, y, z, t)\n",
    "+ h_t \\frac{\\partial f_i}{\\partial t}(x, y, z, t)\n",
    "\\end{equation}\n",
    "\n",
    "Ponadto\n",
    "\\begin{equation}\n",
    "\\frac{\\partial f_i}{\\partial x} = 2(x-x_i) \\\\\n",
    "\\frac{\\partial f_i}{\\partial y} = 2(y-y_i) \\\\\n",
    "\\frac{\\partial f_i}{\\partial z} = 2(z-z_i) \\\\\n",
    "\\frac{\\partial f_i}{\\partial t} = -2c^2(t-t_i)\n",
    "\\end{equation}\n",
    "\n",
    "Stąd\n",
    "\\begin{equation}\n",
    "f_i(x + h_x, y + h_y, z + h_z, t + h_t) \\approx f_i(x, y, z, t) + 2h_x(x-x_i) + 2h_y(y-y_i) + 2h_z(z-z_i) -2c^2h_t(t-t_i)\n",
    "\\end{equation}"
   ]
  },
  {
   "cell_type": "markdown",
   "metadata": {},
   "source": [
    "## Metoda Newtona"
   ]
  },
  {
   "cell_type": "markdown",
   "metadata": {},
   "source": [
    "Zastosujemy metodę Newtona. Chcemy znaleźć $x, y, z, t$, dla których $f_i(x, y, z, t) = 0$ dla $1 \\leq i \\leq 4$.\n",
    "Niech $x_n \\in \\mathbb{R}^4$ będzie n-tym przybliżeniem metody Newtona. Szukamy $h \\in \\mathbb{R}^4$, takiego że\n",
    "dla $x_{n+1} = x_n + h$ zajdzie $f_i(x_{n+1}) = 0$ dla $1 \\leq i \\leq 4$.\n",
    "\n",
    "Niech\n",
    "$$\n",
    "x_n = \n",
    "    \\begin{pmatrix}\n",
    "    x \\\\\n",
    "    y \\\\\n",
    "    z \\\\\n",
    "    t\n",
    "    \\end{pmatrix}\n",
    "$$\n",
    "\n",
    "Rozwiążemy układ równań\n",
    "\\begin{equation}\n",
    "0 = f_1(x, y, z, t) + 2h_x(x-x_1) + 2h_y(y-y_1) + 2h_z(z-z_1) -2c^2h_t(t-t_1) \\\\\n",
    "0 = f_2(x, y, z, t) + 2h_x(x-x_2) + 2h_y(y-y_2) + 2h_z(z-z_2) -2c^2h_t(t-t_2) \\\\\n",
    "0 = f_3(x, y, z, t) + 2h_x(x-x_3) + 2h_y(y-y_3) + 2h_z(z-z_3) -2c^2h_t(t-t_3) \\\\\n",
    "0 = f_4(x, y, z, t) + 2h_x(x-x_4) + 2h_y(y-y_4) + 2h_z(z-z_4) -2c^2h_t(t-t_4)\n",
    "\\end{equation}\n",
    "Inaczej\n",
    "\\begin{equation}\n",
    "\\begin{pmatrix}\n",
    "x-x_1  & y-y_1 & z-z_1 & -c^2(t-t_1) \\\\\n",
    "x-x_2  & y-y_2 & z-z_2 & -c^2(t-t_2) \\\\\n",
    "x-x_3  & y-y_3 & z-z_3 & -c^2(t-t_3) \\\\\n",
    "x-x_4  & y-y_4 & z-z_4 & -c^2(t-t_4) \\\\\n",
    "\\end{pmatrix}\n",
    "\\begin{pmatrix}\n",
    "h_x \\\\ h_y \\\\ h_z \\\\ h_t\n",
    "\\end{pmatrix}\n",
    "=\n",
    "-\\frac{1}{2}\n",
    "\\begin{pmatrix}\n",
    "f_1(x, y, z, t) \\\\\n",
    "f_2(x, y, z, t) \\\\\n",
    "f_3(x, y, z, t) \\\\\n",
    "f_4(x, y, z, t)\n",
    "\\end{pmatrix}\n",
    "\\end{equation}\n",
    "\n",
    "Wtedy \n",
    "$$\n",
    "x_{n+1} = x_n + h = x_n + \\begin{pmatrix} h_x \\\\ h_y \\\\ h_z \\\\ h_t \\end{pmatrix}\n",
    "$$"
   ]
  },
  {
   "cell_type": "code",
   "execution_count": 293,
   "metadata": {},
   "outputs": [],
   "source": [
    "c = 299792458.0\n",
    "\n",
    "function fsingle(x, sat)\n",
    "    a = (x - sat) .^ 2\n",
    "    a[4] *= -c^2\n",
    "    sum(a)\n",
    "end \n",
    "\n",
    "function fvect(x, sats)\n",
    "    [fsingle(x, sats[i]) for i = 1:length(sats)]\n",
    "end\n",
    "\n",
    "function getcoeffs(x, sats)\n",
    "    A = [x - sats[i] for i = 1:length(sats)]\n",
    "    A = hcat(A...)'\n",
    "    A[:, 4] *= -c^2\n",
    "    A\n",
    "end\n",
    "\n",
    "function newton(sats; maxiter::Int64=15) \n",
    "    x = [0, 0, 6370, 0]\n",
    "    for i = 1:maxiter\n",
    "        A = getcoeffs(x, sats)\n",
    "        B = fvect(x, sats)\n",
    "        h = -0.5 * (A \\ B)\n",
    "        x = x + h\n",
    "    end\n",
    "    x\n",
    "end;"
   ]
  },
  {
   "cell_type": "code",
   "execution_count": 294,
   "metadata": {},
   "outputs": [
    {
     "data": {
      "text/plain": [
       "4-element Array{Float64,1}:\n",
       "  -41.7727    \n",
       "  -16.7892    \n",
       " 6370.06      \n",
       "   -3.20157e-6"
      ]
     },
     "execution_count": 294,
     "metadata": {},
     "output_type": "execute_result"
    }
   ],
   "source": [
    "sat = Array{Array{Float64}}(4)\n",
    "sat[1] = [15600,7540,20140, 0.07074e-3]\n",
    "sat[2] = [18760,2750,18610, 0.07220e-3]\n",
    "sat[3] = [17610,14630,13480, 0.07690e-3]\n",
    "sat[4] = [19170,610,18390, 0.07242e-3]\n",
    "\n",
    "newton(sat)"
   ]
  },
  {
   "cell_type": "code",
   "execution_count": null,
   "metadata": {
    "collapsed": true
   },
   "outputs": [],
   "source": []
  }
 ],
 "metadata": {
  "kernelspec": {
   "display_name": "Julia 0.6.0",
   "language": "julia",
   "name": "julia-0.6"
  },
  "language_info": {
   "file_extension": ".jl",
   "mimetype": "application/julia",
   "name": "julia",
   "version": "0.6.0"
  }
 },
 "nbformat": 4,
 "nbformat_minor": 2
}
